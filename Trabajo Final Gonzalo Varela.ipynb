{
 "cells": [
  {
   "cell_type": "code",
   "execution_count": 1,
   "id": "b5d3d659",
   "metadata": {},
   "outputs": [],
   "source": [
    "import json\n",
    "import os\n",
    "import math\n",
    "import pandas as pd\n",
    "import seaborn as sns"
   ]
  },
  {
   "cell_type": "code",
   "execution_count": 8,
   "id": "9417072d",
   "metadata": {},
   "outputs": [
    {
     "ename": "FileNotFoundError",
     "evalue": "[Errno 2] No such file or directory: 'Wyscout/Competitions/competitions.json'",
     "output_type": "error",
     "traceback": [
      "\u001b[1;31m---------------------------------------------------------------------------\u001b[0m",
      "\u001b[1;31mFileNotFoundError\u001b[0m                         Traceback (most recent call last)",
      "\u001b[1;32m~\\AppData\\Local\\Temp\\ipykernel_17052\\1932828040.py\u001b[0m in \u001b[0;36m<module>\u001b[1;34m\u001b[0m\n\u001b[1;32m----> 1\u001b[1;33m \u001b[1;32mwith\u001b[0m \u001b[0mopen\u001b[0m\u001b[1;33m(\u001b[0m\u001b[1;34m'Wyscout/Competitions/competitions.json'\u001b[0m\u001b[1;33m)\u001b[0m \u001b[1;32mas\u001b[0m \u001b[0mf\u001b[0m\u001b[1;33m:\u001b[0m\u001b[1;33m\u001b[0m\u001b[1;33m\u001b[0m\u001b[0m\n\u001b[0m\u001b[0;32m      2\u001b[0m     \u001b[0mcompetitions\u001b[0m \u001b[1;33m=\u001b[0m \u001b[0mjson\u001b[0m\u001b[1;33m.\u001b[0m\u001b[0mload\u001b[0m\u001b[1;33m(\u001b[0m\u001b[0mf\u001b[0m\u001b[1;33m)\u001b[0m\u001b[1;33m\u001b[0m\u001b[1;33m\u001b[0m\u001b[0m\n",
      "\u001b[1;31mFileNotFoundError\u001b[0m: [Errno 2] No such file or directory: 'Wyscout/Competitions/competitions.json'"
     ]
    }
   ],
   "source": [
    "with open('Wyscout/Competitions/competitions.json') as f:\n",
    "    competitions = json.load(f)"
   ]
  },
  {
   "cell_type": "code",
   "execution_count": null,
   "id": "0cec24b5",
   "metadata": {},
   "outputs": [],
   "source": [
    "matches_leagues=[]\n",
    "\n",
    "for i in range(0,5):\n",
    "    with open('Wyscout/Matches/matches_'+str(competitions[i][\"area\"][\"name\"])+'.json') as f:\n",
    "        matches_leagues.append(json.load(f))"
   ]
  },
  {
   "cell_type": "code",
   "execution_count": null,
   "id": "473f16f1",
   "metadata": {},
   "outputs": [],
   "source": [
    "with open('Wyscout/Teams/teams.json') as f:\n",
    "    teams = json.load(f)"
   ]
  },
  {
   "cell_type": "code",
   "execution_count": null,
   "id": "5cfb82cb",
   "metadata": {},
   "outputs": [],
   "source": [
    "with open('Wyscout/Players/players.json') as f:\n",
    "    players = json.load(f)"
   ]
  },
  {
   "cell_type": "code",
   "execution_count": null,
   "id": "87b21e61",
   "metadata": {},
   "outputs": [],
   "source": [
    "events_leagues=[]\n",
    "\n",
    "for i in range(0,5):\n",
    "    with open('Wyscout/Events/events_'+str(competitions[i][\"area\"][\"name\"])+'.json') as f:\n",
    "        events_leagues.append(json.load(f))"
   ]
  },
  {
   "cell_type": "code",
   "execution_count": null,
   "id": "4d2becbb",
   "metadata": {},
   "outputs": [],
   "source": [
    "competitions_df=pd.DataFrame(competitions)\n",
    "competitions_df.drop('area', inplace=True, axis=1)"
   ]
  },
  {
   "cell_type": "code",
   "execution_count": null,
   "id": "81dda219",
   "metadata": {},
   "outputs": [],
   "source": [
    "italian=pd.DataFrame(matches_leagues[0])\n",
    "english=pd.DataFrame(matches_leagues[1])\n",
    "spanish=pd.DataFrame(matches_leagues[2])\n",
    "french=pd.DataFrame(matches_leagues[3])\n",
    "german=pd.DataFrame(matches_leagues[4])"
   ]
  },
  {
   "cell_type": "code",
   "execution_count": null,
   "id": "0d230a5f",
   "metadata": {},
   "outputs": [],
   "source": [
    "matches=pd.concat([italian,english,spanish,french,german])"
   ]
  },
  {
   "cell_type": "code",
   "execution_count": null,
   "id": "f342542d",
   "metadata": {},
   "outputs": [],
   "source": [
    "competitions_matches=pd.merge(matches,competitions_df,left_on=\"competitionId\",right_on=\"wyId\")"
   ]
  },
  {
   "cell_type": "code",
   "execution_count": null,
   "id": "0ff4e520",
   "metadata": {},
   "outputs": [],
   "source": [
    "equipos=[]\n",
    "for i in range(0,1826):\n",
    "    equipos.append(competitions_matches.iloc[i].teamsData.keys())"
   ]
  },
  {
   "cell_type": "code",
   "execution_count": null,
   "id": "3d04cf7f",
   "metadata": {},
   "outputs": [],
   "source": [
    "competitions_matches[\"Equipos\"]=equipos"
   ]
  },
  {
   "cell_type": "code",
   "execution_count": null,
   "id": "9fb5ec26",
   "metadata": {
    "scrolled": false
   },
   "outputs": [],
   "source": [
    "viejos_equipos=[]\n",
    "for i in range(0,142):\n",
    "    viejos_equipos.append(teams[i][\"name\"])"
   ]
  },
  {
   "cell_type": "code",
   "execution_count": null,
   "id": "fcd54a76",
   "metadata": {},
   "outputs": [],
   "source": [
    "#cambio los nombres que estaban mal escritos\n",
    "\n",
    "nuevos_equipos=['Newcastle United',\n",
    " 'Celta de Vigo',\n",
    " 'Espanyol',\n",
    " 'Deportivo Alaves',\n",
    " 'Levante',\n",
    " 'Troyes',\n",
    " 'Getafe',\n",
    " \"Borussia M'gladbach\",\n",
    " 'Huddersfield Town',\n",
    " 'Athletic Club',\n",
    " 'Atletico Madrid',\n",
    " 'Olympique Lyonnais',\n",
    " 'PSG',\n",
    " 'Valencia',\n",
    " 'Real Madrid',\n",
    " 'Barcelona',\n",
    " 'Las Palmas',\n",
    " 'Leganes',\n",
    " 'SPAL',\n",
    " 'Swansea City',\n",
    " 'Olympique Marseille',\n",
    " 'Nantes',\n",
    " 'Nice',\n",
    " 'Rennes',\n",
    " 'Strasbourg',\n",
    " 'Eibar',\n",
    " 'AFC Bournemouth',\n",
    " 'Brighton & Hove Albion',\n",
    " 'Werder Bremen',\n",
    " 'Bayer Leverkusen',\n",
    " 'Borussia Dortmund',\n",
    " 'Bayern Munich',\n",
    " 'Stuttgart',\n",
    " 'Schalke 04',\n",
    " 'Milan',\n",
    " 'Angers',\n",
    " 'Juventus',\n",
    " 'Roma',\n",
    " 'Sassuolo',\n",
    " 'Burnley',\n",
    " 'Bordeaux',\n",
    " 'Hannover 96',\n",
    " 'Dijon',\n",
    " 'Hertha BSC',\n",
    " 'Wolfsburg',\n",
    " 'Hamburger SV',\n",
    " 'Freiburg',\n",
    " 'Bologna',\n",
    " 'Metz',\n",
    " 'Sampdoria',\n",
    " 'Chievo',\n",
    " 'Lazio',\n",
    " 'Udinese',\n",
    " 'Internazionale',\n",
    " 'Leicester City',\n",
    " 'West Ham United',\n",
    " 'Stoke City',\n",
    " 'Benevento',\n",
    " 'SaintEtienne',\n",
    " 'Girona',\n",
    " 'Watford',\n",
    " 'Hoffenheim',\n",
    " 'Cagliari',\n",
    " 'Atalanta',\n",
    " 'Fiorentina',\n",
    " 'Everton',\n",
    " 'West Bromwich Albion',\n",
    " 'Manchester City',\n",
    " 'Tottenham Hotspur',\n",
    " 'Augsburg',\n",
    " 'Crystal Palace',\n",
    " 'Monaco',\n",
    " 'Mainz 05',\n",
    " 'Lille',\n",
    " 'Eintracht Frankfurt',\n",
    " 'Southampton',\n",
    " 'Koln',\n",
    " 'Liverpool',\n",
    " 'Chelsea',\n",
    " 'Manchester United',\n",
    " 'Torino',\n",
    " 'Napoli',\n",
    " 'Deportivo La Coruna',\n",
    " 'RB Leipzig',\n",
    " 'Arsenal',\n",
    " 'Caen',\n",
    " 'Toulouse',\n",
    " 'Montpellier',\n",
    " 'Guingamp',\n",
    " 'Amiens SC',\n",
    " 'Crotone',\n",
    " 'Hellas Verona',\n",
    " 'Genoa',\n",
    " 'Real Betis',\n",
    " 'Real Sociedad',\n",
    " 'Sevilla',\n",
    " 'Malaga',\n",
    " 'Villarreal',\n",
    " 'Korea Republic',\n",
    " 'Hungary',\n",
    " 'Turkey',\n",
    " 'Russia',\n",
    " 'Sweden',\n",
    " 'Tunisia',\n",
    " 'Brazil',\n",
    " 'Germany',\n",
    " 'Albania',\n",
    " 'Romania',\n",
    " 'Ukraine',\n",
    " 'Morocco',\n",
    " 'Slovakia',\n",
    " 'Colombia',\n",
    " 'Panama',\n",
    " 'Australia',\n",
    " 'Argentina',\n",
    " 'Northern Ireland',\n",
    " 'Portugal',\n",
    " 'Belgium',\n",
    " 'Denmark',\n",
    " 'Uruguay',\n",
    " 'Wales',\n",
    " 'Costa Rica',\n",
    " 'England',\n",
    " 'Egypt',\n",
    " 'Japan',\n",
    " 'Iran',\n",
    " 'Austria',\n",
    " 'Iceland',\n",
    " 'Croatia',\n",
    " 'Mexico',\n",
    " 'Republic of Ireland',\n",
    " 'Czech Republic',\n",
    " 'Senegal',\n",
    " 'Italy',\n",
    " 'Peru',\n",
    " 'France',\n",
    " 'Saudi Arabia',\n",
    " 'Spain',\n",
    " 'Serbia',\n",
    " 'Switzerland',\n",
    " 'Poland',\n",
    " 'Nigeria']"
   ]
  },
  {
   "cell_type": "code",
   "execution_count": null,
   "id": "a384d0c8",
   "metadata": {},
   "outputs": [],
   "source": [
    "for i in range(0,142):\n",
    "    teams[i][\"name\"]=nuevos_equipos[i]"
   ]
  },
  {
   "cell_type": "code",
   "execution_count": null,
   "id": "c0a4a62f",
   "metadata": {},
   "outputs": [],
   "source": [
    "\n",
    "equipo_nombre=[]\n",
    "id_equipo=[]\n",
    "for i in range(0,142):\n",
    "    equipo_nombre.append(teams[i][\"name\"])\n",
    "    id_equipo.append(teams[i][\"wyId\"])"
   ]
  },
  {
   "cell_type": "code",
   "execution_count": null,
   "id": "9f6b43c0",
   "metadata": {
    "scrolled": true
   },
   "outputs": [],
   "source": [
    "#creo una tabla que tenga el id del equipo con su nombre para luego poder identificarlos\n",
    "ayuda_id_equipo=pd.DataFrame()\n",
    "ayuda_id_equipo[\"Id_Equipo\"]=id_equipo\n",
    "ayuda_id_equipo[\"Nombre\"]=equipo_nombre"
   ]
  },
  {
   "cell_type": "code",
   "execution_count": null,
   "id": "c275b0c2",
   "metadata": {},
   "outputs": [],
   "source": [
    "equipos_totales=[]\n",
    "for i in  range (0,1826):\n",
    "    for j in competitions_matches.Equipos[i]:\n",
    "        equipos_totales.append(j)"
   ]
  },
  {
   "cell_type": "code",
   "execution_count": null,
   "id": "d1b93601",
   "metadata": {
    "scrolled": true
   },
   "outputs": [],
   "source": [
    "#separo equipos locales de visitantes\n",
    "equipo_local=[]\n",
    "equipo_visitante=[]\n",
    "for i in equipos_totales:\n",
    "    equipo_local=equipos_totales[0::2]\n",
    "    equipo_visitante=equipos_totales[1::2]"
   ]
  },
  {
   "cell_type": "code",
   "execution_count": null,
   "id": "afcceb75",
   "metadata": {},
   "outputs": [],
   "source": [
    "competitions_matches[\"equipo_local\"]=equipo_local\n",
    "competitions_matches[\"equipo_visitante\"]=equipo_visitante"
   ]
  },
  {
   "cell_type": "code",
   "execution_count": null,
   "id": "2bea9a1b",
   "metadata": {
    "scrolled": true
   },
   "outputs": [],
   "source": [
    "competitions_matches[\"equipo_local\"]=competitions_matches['equipo_local'].astype(str).astype(int)\n",
    "competitions_matches[\"equipo_visitante\"]=competitions_matches['equipo_visitante'].astype(str).astype(int)"
   ]
  },
  {
   "cell_type": "code",
   "execution_count": null,
   "id": "af448c07",
   "metadata": {
    "scrolled": true
   },
   "outputs": [],
   "source": [
    "competitions_matches_2=pd.merge(competitions_matches,ayuda_id_equipo,left_on=[\"equipo_local\"], right_on=\"Id_Equipo\",how=\"left\")\n",
    "competitions_matches_2=pd.merge(competitions_matches_2,ayuda_id_equipo,left_on=[\"equipo_visitante\"], right_on=\"Id_Equipo\",how=\"left\")"
   ]
  },
  {
   "cell_type": "code",
   "execution_count": null,
   "id": "a4b2d73b",
   "metadata": {},
   "outputs": [],
   "source": [
    "competitions_matches_2"
   ]
  },
  {
   "cell_type": "code",
   "execution_count": null,
   "id": "3e6a49f5",
   "metadata": {},
   "outputs": [],
   "source": [
    "# tomo los goles de cada equipo a traves de label\n",
    "import re\n",
    "patron_resultado=\"(\\w*\\s\\D*?\\w*\\,\\s?)(\\d)(\\s\\-\\s)(\\d)\"\n",
    "\n",
    "patron_resultado_regex = re.compile(patron_resultado, flags = re.IGNORECASE)"
   ]
  },
  {
   "cell_type": "code",
   "execution_count": null,
   "id": "1329b132",
   "metadata": {},
   "outputs": [],
   "source": []
  },
  {
   "cell_type": "code",
   "execution_count": 6,
   "id": "3f81f1f1",
   "metadata": {},
   "outputs": [
    {
     "ename": "NameError",
     "evalue": "name 'resultado' is not defined",
     "output_type": "error",
     "traceback": [
      "\u001b[1;31m---------------------------------------------------------------------------\u001b[0m",
      "\u001b[1;31mNameError\u001b[0m                                 Traceback (most recent call last)",
      "\u001b[1;32m~\\AppData\\Local\\Temp\\ipykernel_17052\\1054903826.py\u001b[0m in \u001b[0;36m<module>\u001b[1;34m\u001b[0m\n\u001b[1;32m----> 1\u001b[1;33m \u001b[0mna\u001b[0m\u001b[1;33m=\u001b[0m\u001b[0mresultado\u001b[0m\u001b[1;33m.\u001b[0m\u001b[0misna\u001b[0m\u001b[1;33m(\u001b[0m\u001b[1;33m)\u001b[0m\u001b[1;33m\u001b[0m\u001b[1;33m\u001b[0m\u001b[0m\n\u001b[0m",
      "\u001b[1;31mNameError\u001b[0m: name 'resultado' is not defined"
     ]
    }
   ],
   "source": [
    "na=resultado.isna()"
   ]
  },
  {
   "cell_type": "code",
   "execution_count": null,
   "id": "9f888f08",
   "metadata": {},
   "outputs": [],
   "source": [
    "goles_local = resultado.apply(lambda x: x[2])\n",
    "goles_visitante = resultado.apply(lambda x: x[4])"
   ]
  },
  {
   "cell_type": "code",
   "execution_count": null,
   "id": "e3dbf4e4",
   "metadata": {},
   "outputs": [],
   "source": [
    "competitions_matches_2[\"goles_local\"]=goles_local\n",
    "competitions_matches_2[\"goles_visitante\"]=goles_visitante"
   ]
  },
  {
   "cell_type": "code",
   "execution_count": null,
   "id": "50731dc6",
   "metadata": {},
   "outputs": [],
   "source": [
    "#creo funcion para encomillar palabras\n",
    "def foo(s1):\n",
    "    return \"{}\".format(s1)"
   ]
  },
  {
   "cell_type": "code",
   "execution_count": null,
   "id": "5d838dad",
   "metadata": {},
   "outputs": [],
   "source": [
    "formaciones_locales=[]\n",
    "for i in range(0,1826):\n",
    "    k=foo(competitions_matches_2[\"Id_Equipo_x\"][i])\n",
    "    for n in range (0,11):\n",
    "        formaciones_locales.append(competitions_matches_2[\"teamsData\"][i][k][\"formation\"][\"lineup\"][n])"
   ]
  },
  {
   "cell_type": "code",
   "execution_count": null,
   "id": "56b87d18",
   "metadata": {},
   "outputs": [],
   "source": [
    "formaciones_visitantes=[]\n",
    "for i in range(0,1826):\n",
    "    k=foo(competitions_matches_2[\"Id_Equipo_y\"][i])\n",
    "    for n in range (0,11):\n",
    "        formaciones_visitantes.append(competitions_matches_2[\"teamsData\"][i][k][\"formation\"][\"lineup\"][n])"
   ]
  },
  {
   "cell_type": "code",
   "execution_count": null,
   "id": "f77693c6",
   "metadata": {},
   "outputs": [],
   "source": [
    "teams_ind_l=[]\n",
    "for i in range(0,1826):\n",
    "    k=foo(competitions_matches_2[\"Id_Equipo_x\"][i])\n",
    "    for n in range (0,11):\n",
    "        teams_ind_l.append(competitions_matches_2[\"teamsData\"][i][k][\"teamId\"])"
   ]
  },
  {
   "cell_type": "code",
   "execution_count": null,
   "id": "3f58da9d",
   "metadata": {},
   "outputs": [],
   "source": [
    "teams_ind_v=[]\n",
    "for i in range(0,1826):\n",
    "    k=foo(competitions_matches_2[\"Id_Equipo_y\"][i])\n",
    "    for n in range (0,11):\n",
    "        teams_ind_v.append(competitions_matches_2[\"teamsData\"][i][k][\"teamId\"])"
   ]
  },
  {
   "cell_type": "code",
   "execution_count": null,
   "id": "ed5b1216",
   "metadata": {
    "scrolled": false
   },
   "outputs": [],
   "source": [
    "titulares_locales=[]\n",
    "for i in range(0,20086):\n",
    "    titulares_locales.append(formaciones_locales[i][\"playerId\"])"
   ]
  },
  {
   "cell_type": "code",
   "execution_count": null,
   "id": "593b2e4c",
   "metadata": {},
   "outputs": [],
   "source": [
    "titulares_visitantes=[]\n",
    "for i in range(0,20086):\n",
    "    titulares_visitantes.append(formaciones_visitantes[i][\"playerId\"])"
   ]
  },
  {
   "cell_type": "code",
   "execution_count": null,
   "id": "1b6d3065",
   "metadata": {},
   "outputs": [],
   "source": [
    "goles_locales=[]\n",
    "for i in range(0,20086):\n",
    "    goles_locales.append(formaciones_locales[i][\"goals\"])"
   ]
  },
  {
   "cell_type": "code",
   "execution_count": null,
   "id": "35713841",
   "metadata": {},
   "outputs": [],
   "source": [
    "goles_visitantes=[]\n",
    "for i in range(0,20086):\n",
    "    goles_visitantes.append(formaciones_visitantes[i][\"goals\"])"
   ]
  },
  {
   "cell_type": "code",
   "execution_count": null,
   "id": "3023cf73",
   "metadata": {},
   "outputs": [],
   "source": [
    "nombre_jugador=[]\n",
    "for i in range(0,3603):\n",
    "    nombre_jugador.append(players[i][\"shortName\"])"
   ]
  },
  {
   "cell_type": "code",
   "execution_count": null,
   "id": "3291de0b",
   "metadata": {},
   "outputs": [],
   "source": [
    "id_player=[]\n",
    "for i in range(0,3603):\n",
    "    id_player.append(players[i][\"wyId\"])"
   ]
  },
  {
   "cell_type": "code",
   "execution_count": null,
   "id": "07016446",
   "metadata": {},
   "outputs": [],
   "source": [
    "id_equipo_jugador=[]\n",
    "for i in range(0,3603):\n",
    "    id_equipo_jugador.append(players[i][\"currentTeamId\"])"
   ]
  },
  {
   "cell_type": "code",
   "execution_count": null,
   "id": "8e320c51",
   "metadata": {},
   "outputs": [],
   "source": [
    "posicion=[]\n",
    "for i in range(0,3603):\n",
    "    posicion.append(players[i][\"role\"][\"name\"])"
   ]
  },
  {
   "cell_type": "code",
   "execution_count": null,
   "id": "79631d3c",
   "metadata": {},
   "outputs": [],
   "source": [
    "ayuda_id_player=pd.DataFrame()\n",
    "ayuda_id_player[\"id_player\"]=id_player\n",
    "ayuda_id_player[\"Nombre Jugador\"]=nombre_jugador\n",
    "ayuda_id_player[\"Equipo\"]=id_equipo_jugador\n",
    "ayuda_id_player[\"Posicion\"]=posicion\n",
    "ayuda_id_player"
   ]
  },
  {
   "cell_type": "code",
   "execution_count": null,
   "id": "d98ea4fd",
   "metadata": {},
   "outputs": [],
   "source": [
    "formaciones_equipos_locales=pd.DataFrame()\n",
    "formaciones_equipos_visitantes=pd.DataFrame()"
   ]
  },
  {
   "cell_type": "code",
   "execution_count": null,
   "id": "82265e2c",
   "metadata": {},
   "outputs": [],
   "source": [
    "formaciones_equipos_locales[\"id_jugador\"]=titulares_locales\n",
    "formaciones_equipos_locales[\"goles_locales\"]=goles_locales\n",
    "formaciones_equipos_visitantes[\"id_jugador\"]=titulares_visitantes\n",
    "formaciones_equipos_visitantes[\"goles_visitantes\"]=goles_visitantes"
   ]
  },
  {
   "cell_type": "code",
   "execution_count": null,
   "id": "90663ffc",
   "metadata": {},
   "outputs": [],
   "source": [
    "formaciones_equipos_locales=pd.merge(formaciones_equipos_locales,ayuda_id_player,left_on=[\"id_jugador\"], right_on=\"id_player\",how=\"left\")\n",
    "formaciones_equipos_visitantes=pd.merge(formaciones_equipos_visitantes,ayuda_id_player,left_on=[\"id_jugador\"], right_on=\"id_player\",how=\"left\")"
   ]
  },
  {
   "cell_type": "code",
   "execution_count": null,
   "id": "da80bd2a",
   "metadata": {},
   "outputs": [],
   "source": [
    "formaciones_equipos_locales_2=formaciones_equipos_locales.copy()\n",
    "formaciones_equipos_visitantes_2=formaciones_equipos_visitantes.copy()"
   ]
  },
  {
   "cell_type": "code",
   "execution_count": null,
   "id": "61cca175",
   "metadata": {},
   "outputs": [],
   "source": [
    "match_id=[]\n",
    "for i in range(0,len(competitions_matches_2)):\n",
    "    match_id.append(competitions_matches_2[\"wyId_x\"][i])\n",
    "\n",
    "date=[]    \n",
    "for i in range(0,len(competitions_matches_2)):\n",
    "    date.append(competitions_matches_2[\"dateutc\"][i])\n",
    "\n",
    "label=[]    \n",
    "for i in range(0,len(competitions_matches_2)):\n",
    "    label.append(competitions_matches_2[\"label\"][i])\n",
    "    \n",
    "fecha=[]    \n",
    "for i in range(0,len(competitions_matches_2)):\n",
    "    fecha.append(competitions_matches_2[\"gameweek\"][i])\n",
    "\n",
    "equipo_L=[]    \n",
    "for i in range(0,len(competitions_matches_2)):\n",
    "    equipo_L.append(competitions_matches_2[\"Nombre_x\"][i])\n",
    "\n",
    "equipo_V=[]\n",
    "for i in range(0,len(competitions_matches_2)):\n",
    "    equipo_V.append(competitions_matches_2[\"Nombre_y\"][i])\n",
    "    \n",
    "goles_L=[]\n",
    "for i in range(0,len(competitions_matches_2)):\n",
    "    goles_L.append(competitions_matches_2[\"goles_local\"][i])\n",
    "\n",
    "goles_V=[]\n",
    "for i in range(0,len(competitions_matches_2)):\n",
    "    goles_V.append(competitions_matches_2[\"goles_visitante\"][i])"
   ]
  },
  {
   "cell_type": "code",
   "execution_count": null,
   "id": "64a5e680",
   "metadata": {},
   "outputs": [],
   "source": [
    "datos_extra=pd.DataFrame()\n",
    "datos_extra[\"match_id\"]=match_id\n",
    "datos_extra[\"Date\"]=date\n",
    "datos_extra[\"Resultado\"]=label\n",
    "datos_extra[\"Fecha\"]=fecha\n",
    "datos_extra[\"Equipo_L\"]=equipo_L\n",
    "datos_extra[\"Equipo_V\"]=equipo_V\n",
    "datos_extra"
   ]
  },
  {
   "cell_type": "code",
   "execution_count": null,
   "id": "1c5997a9",
   "metadata": {},
   "outputs": [],
   "source": [
    "#esta funcion me va a servir para separar las formaciones\n",
    "multiplo11=[]\n",
    "for i in range(0,len(formaciones_equipos_locales_2)):\n",
    "    if i %11==0:\n",
    "        multiplo11.append(i)"
   ]
  },
  {
   "cell_type": "code",
   "execution_count": null,
   "id": "c99bb543",
   "metadata": {},
   "outputs": [],
   "source": [
    "def posicionMultiplo11(n):\n",
    "    return(multiplo11.index(n))"
   ]
  },
  {
   "cell_type": "code",
   "execution_count": null,
   "id": "ad890e12",
   "metadata": {},
   "outputs": [],
   "source": [
    "formaciones_equipos_locales_2"
   ]
  },
  {
   "cell_type": "code",
   "execution_count": null,
   "id": "db19132e",
   "metadata": {},
   "outputs": [],
   "source": [
    "for i in range(0,len(formaciones_equipos_locales_2)):\n",
    "    if i%11==0:\n",
    "        formaciones_equipos_locales_2.at[i,\"Equipo\"]=equipo_L[posicionMultiplo11(i)]\n",
    "        for k in range(i,i+11):\n",
    "            formaciones_equipos_locales_2.at[k,'Equipo']=formaciones_equipos_locales_2.at[i,\"Equipo\"]\n",
    "\n",
    "\n",
    "for i in range(0,len(formaciones_equipos_visitantes_2)):\n",
    "    if i%11==0:\n",
    "        formaciones_equipos_visitantes_2.at[i,\"Equipo\"]=equipo_V[posicionMultiplo11(i)]\n",
    "        for k in range(i,i+11):\n",
    "            formaciones_equipos_visitantes_2.at[k,'Equipo']=formaciones_equipos_visitantes_2.at[i,\"Equipo\"]"
   ]
  },
  {
   "cell_type": "code",
   "execution_count": null,
   "id": "86af2b36",
   "metadata": {},
   "outputs": [],
   "source": [
    "formaciones_equipos_locales_2[\"matchId\"]=0\n",
    "formaciones_equipos_visitantes_2[\"matchId\"]=0"
   ]
  },
  {
   "cell_type": "code",
   "execution_count": null,
   "id": "33307c50",
   "metadata": {},
   "outputs": [],
   "source": [
    "for i in range(0,len(formaciones_equipos_locales_2)):\n",
    "    if i%11==0:\n",
    "        formaciones_equipos_locales_2.at[i,\"matchId\"]=match_id[posicionMultiplo11(i)]\n",
    "        for k in range(i,i+11):\n",
    "            formaciones_equipos_locales_2.at[k,'matchId']=formaciones_equipos_locales_2.at[i,\"matchId\"]\n",
    "\n",
    "\n",
    "for i in range(0,len(formaciones_equipos_visitantes_2)):\n",
    "    if i%11==0:\n",
    "        formaciones_equipos_visitantes_2.at[i,\"matchId\"]=match_id[posicionMultiplo11(i)]\n",
    "        for k in range(i,i+11):\n",
    "            formaciones_equipos_visitantes_2.at[k,'matchId']=formaciones_equipos_visitantes_2.at[i,\"matchId\"]\n",
    "        \n",
    "\n"
   ]
  },
  {
   "cell_type": "code",
   "execution_count": null,
   "id": "a9998e8f",
   "metadata": {},
   "outputs": [],
   "source": [
    "posiciones_cancha = [\"Goalkeeper\", \"Defender\", \"Midfielder\", \"Forward\"]\n",
    "formaciones_equipos_locales_2[\"Posicion\"] = pd.Categorical(formaciones_equipos_locales_2[\"Posicion\"], categories = posiciones_cancha)\n",
    "formaciones_equipos_visitantes_2[\"Posicion\"] = pd.Categorical(formaciones_equipos_visitantes_2[\"Posicion\"], categories = posiciones_cancha)\n",
    "formaciones_equipos_locales_2.sort_values(by =[\"matchId\",\"Posicion\"],inplace=True)\n",
    "formaciones_equipos_visitantes_2.sort_values(by =[\"matchId\",\"Posicion\"],inplace=True)"
   ]
  },
  {
   "cell_type": "code",
   "execution_count": null,
   "id": "75630027",
   "metadata": {},
   "outputs": [],
   "source": [
    "formaciones_equipos_locales_2=pd.merge(formaciones_equipos_locales_2,datos_extra,left_on=\"matchId\", right_on=\"match_id\",how=\"left\")\n",
    "formaciones_equipos_visitantes_2=pd.merge(formaciones_equipos_visitantes_2,datos_extra,left_on=\"matchId\", right_on=\"match_id\",how=\"left\")"
   ]
  },
  {
   "cell_type": "code",
   "execution_count": null,
   "id": "0d14e1ce",
   "metadata": {},
   "outputs": [],
   "source": [
    "formaciones_equipos=pd.concat([formaciones_equipos_locales_2,formaciones_equipos_visitantes_2],axis=0)"
   ]
  },
  {
   "cell_type": "code",
   "execution_count": null,
   "id": "b9f645cd",
   "metadata": {},
   "outputs": [],
   "source": [
    "formaciones_equipos.sort_values(by=[\"matchId\",\"Equipo\",\"Posicion\"],inplace=True)"
   ]
  },
  {
   "cell_type": "code",
   "execution_count": null,
   "id": "8616b998",
   "metadata": {},
   "outputs": [],
   "source": [
    "formaciones_equipos_2=formaciones_equipos[[\"Nombre Jugador\",\"Equipo\",\"Posicion\",\"matchId\",\"Date\",\"Resultado\",\"Fecha\"]]"
   ]
  },
  {
   "cell_type": "code",
   "execution_count": null,
   "id": "3fd9b5c1",
   "metadata": {},
   "outputs": [],
   "source": [
    "formaciones_equipos_2=pd.merge(formaciones_equipos_2,datos_extra[[\"match_id\",\"Equipo_L\",\"Equipo_V\"]],left_on=\"matchId\", right_on=\"match_id\",how=\"left\")"
   ]
  },
  {
   "cell_type": "code",
   "execution_count": null,
   "id": "ecafa864",
   "metadata": {},
   "outputs": [],
   "source": [
    "opponent=[]\n",
    "for i in range(0,len(formaciones_equipos_2)):\n",
    "    if formaciones_equipos_2[\"Equipo\"][i]==formaciones_equipos_2[\"Equipo_L\"][i]:\n",
    "        opponent.append(formaciones_equipos_2[\"Equipo_V\"][i])\n",
    "    elif formaciones_equipos_2[\"Equipo\"][i]==formaciones_equipos_2[\"Equipo_V\"][i]:\n",
    "        opponent.append(formaciones_equipos_2[\"Equipo_L\"][i])"
   ]
  },
  {
   "cell_type": "code",
   "execution_count": null,
   "id": "472fa98c",
   "metadata": {},
   "outputs": [],
   "source": [
    "formaciones_equipos_2[\"Rival\"]=opponent"
   ]
  },
  {
   "cell_type": "code",
   "execution_count": null,
   "id": "f47bab3d",
   "metadata": {},
   "outputs": [],
   "source": [
    "formaciones_equipos_2.drop(columns=[\"Equipo_L\",\"Equipo_V\"],inplace=True)"
   ]
  },
  {
   "cell_type": "code",
   "execution_count": null,
   "id": "f9bb915d",
   "metadata": {},
   "outputs": [],
   "source": [
    "def comoForma(equipo,fecha):\n",
    "    if fecha==\"all\":\n",
    "        return formaciones_equipos_2[(formaciones_equipos_2[\"Nombre_Equipo\"]==equipo)]\n",
    "    else:\n",
    "        return formaciones_equipos_2[(formaciones_equipos_2[\"Nombre_Equipo\"]==equipo)&(formaciones_equipos_2[\"Fecha\"]==fecha)]"
   ]
  },
  {
   "cell_type": "code",
   "execution_count": null,
   "id": "d35bacdf",
   "metadata": {
    "scrolled": true
   },
   "outputs": [],
   "source": [
    "eventos_italian=pd.DataFrame(events_leagues[0])\n",
    "eventos_english=pd.DataFrame(events_leagues[1])\n",
    "eventos_spanish=pd.DataFrame(events_leagues[2])\n",
    "eventos_french=pd.DataFrame(events_leagues[3])\n",
    "eventos_german=pd.DataFrame(events_leagues[4])"
   ]
  },
  {
   "cell_type": "code",
   "execution_count": null,
   "id": "d7612bcb",
   "metadata": {},
   "outputs": [],
   "source": [
    "eventos_italian_2=pd.merge(eventos_italian,ayuda_id_player,left_on=[\"playerId\"], right_on=\"id_player\",how=\"left\")\n",
    "eventos_english_2=pd.merge(eventos_english,ayuda_id_player,left_on=[\"playerId\"], right_on=\"id_player\",how=\"left\")\n",
    "eventos_spanish_2=pd.merge(eventos_spanish,ayuda_id_player,left_on=[\"playerId\"], right_on=\"id_player\",how=\"left\")\n",
    "eventos_french_2=pd.merge(eventos_french,ayuda_id_player,left_on=[\"playerId\"], right_on=\"id_player\",how=\"left\")\n",
    "eventos_german_2=pd.merge(eventos_german,ayuda_id_player,left_on=[\"playerId\"], right_on=\"id_player\",how=\"left\")"
   ]
  },
  {
   "cell_type": "code",
   "execution_count": null,
   "id": "6d8819cd",
   "metadata": {},
   "outputs": [],
   "source": [
    "eventos_italian_2=pd.merge(eventos_italian_2,ayuda_id_equipo,left_on=[\"teamId\"], right_on=\"Id_Equipo\",how=\"left\")\n",
    "eventos_english_2=pd.merge(eventos_english_2,ayuda_id_equipo,left_on=[\"teamId\"], right_on=\"Id_Equipo\",how=\"left\")\n",
    "eventos_spanish_2=pd.merge(eventos_spanish_2,ayuda_id_equipo,left_on=[\"teamId\"], right_on=\"Id_Equipo\",how=\"left\")\n",
    "eventos_french_2=pd.merge(eventos_french_2,ayuda_id_equipo,left_on=[\"teamId\"], right_on=\"Id_Equipo\",how=\"left\")\n",
    "eventos_german_2=pd.merge(eventos_german_2,ayuda_id_equipo,left_on=[\"teamId\"], right_on=\"Id_Equipo\",how=\"left\")"
   ]
  },
  {
   "cell_type": "code",
   "execution_count": null,
   "id": "24a7830b",
   "metadata": {},
   "outputs": [],
   "source": [
    "eventos_italian_2[\"Liga\"]=\"Italia\"\n",
    "eventos_english_2[\"Liga\"]=\"Inglaterra\"\n",
    "eventos_spanish_2[\"Liga\"]=\"Espana\"\n",
    "eventos_french_2[\"Liga\"]=\"Francia\"\n",
    "eventos_german_2[\"Liga\"]=\"Alemania\""
   ]
  },
  {
   "cell_type": "code",
   "execution_count": null,
   "id": "89721190",
   "metadata": {},
   "outputs": [],
   "source": [
    "eventos=pd.concat([eventos_italian_2,eventos_english_2,eventos_spanish_2,eventos_french_2,eventos_german_2],ignore_index=True)"
   ]
  },
  {
   "cell_type": "code",
   "execution_count": null,
   "id": "fffa6723",
   "metadata": {
    "scrolled": true
   },
   "outputs": [],
   "source": [
    "pases=eventos.eventName==\"Pass\"\n",
    "eventos[pases].groupby(\"Nombre\")[\"eventName\"].count().sort_values(ascending=False)"
   ]
  },
  {
   "cell_type": "code",
   "execution_count": null,
   "id": "60dc1a78",
   "metadata": {
    "scrolled": true
   },
   "outputs": [],
   "source": [
    "disparos=eventos.eventName==\"Shot\"\n",
    "eventos[disparos].groupby(\"Nombre\")[\"eventName\"].count().sort_values(ascending=False)"
   ]
  },
  {
   "cell_type": "code",
   "execution_count": null,
   "id": "2dbca59c",
   "metadata": {
    "scrolled": true
   },
   "outputs": [],
   "source": [
    "eventos[\"tags\"].value_counts()"
   ]
  },
  {
   "cell_type": "code",
   "execution_count": null,
   "id": "dd7ac45d",
   "metadata": {
    "scrolled": false
   },
   "outputs": [],
   "source": [
    "faltas=eventos.eventName==\"Foul\"\n",
    "\n",
    "sns_plot = sns.catplot(x='Liga', data=eventos[faltas], kind=\"count\", height=5,\n",
    "                          aspect=3, edgecolor='black');\n",
    "sns_plot.fig.subplots_adjust(top=.9)\n",
    "sns_plot.fig.suptitle(\"Cantidad de faltas por liga\",fontsize=22)\n",
    "sns_plot.set_ylabels(\"Cantidad de faltas\")\n",
    "sns_plot.set_xlabels(\"Ligas\")\n",
    "ax = plt.gca()\n",
    "\n",
    "# Añadir texto a cada columna\n",
    "for p in ax.patches:\n",
    "    ax.text(p.get_x() + p.get_width()/2., p.get_height(),\n",
    "            '{0}'.format(int(p.get_height())),\n",
    "            fontsize=10, color='black', ha='center', va='bottom')\n",
    "plt.show()"
   ]
  },
  {
   "cell_type": "code",
   "execution_count": null,
   "id": "55e11df0",
   "metadata": {},
   "outputs": [],
   "source": [
    "partidos_liga=[380,380,380,380,306]\n",
    "ligas=eventos.Liga.unique()\n",
    "faltas_liga=[9994,8138,10965,10202,8656]"
   ]
  },
  {
   "cell_type": "code",
   "execution_count": null,
   "id": "04884a62",
   "metadata": {},
   "outputs": [],
   "source": [
    "promedio_faltas_liga=pd.DataFrame()\n",
    "promedio_faltas_liga[\"Liga\"]=ligas\n",
    "promedio_faltas_liga[\"Faltas\"]=faltas_liga\n",
    "promedio_faltas_liga[\"Cant. Partidos\"]=partidos_liga"
   ]
  },
  {
   "cell_type": "code",
   "execution_count": null,
   "id": "83fda3f5",
   "metadata": {},
   "outputs": [],
   "source": [
    "faltas_promedio_liga=[]\n",
    "for i in range(0,len(promedio_faltas_liga)):\n",
    "    faltas_promedio_liga.append(promedio_faltas_liga[\"Faltas\"][i]/promedio_faltas_liga[\"Cant. Partidos\"][i])"
   ]
  },
  {
   "cell_type": "code",
   "execution_count": null,
   "id": "5b5e2613",
   "metadata": {},
   "outputs": [],
   "source": [
    "promedio_faltas_liga[\"Faltas promedio por Liga\"]=faltas_promedio_liga"
   ]
  },
  {
   "cell_type": "code",
   "execution_count": 7,
   "id": "837f2189",
   "metadata": {},
   "outputs": [
    {
     "ename": "NameError",
     "evalue": "name 'promedio_faltas_liga' is not defined",
     "output_type": "error",
     "traceback": [
      "\u001b[1;31m---------------------------------------------------------------------------\u001b[0m",
      "\u001b[1;31mNameError\u001b[0m                                 Traceback (most recent call last)",
      "\u001b[1;32m~\\AppData\\Local\\Temp\\ipykernel_17052\\2882545598.py\u001b[0m in \u001b[0;36m<module>\u001b[1;34m\u001b[0m\n\u001b[1;32m----> 1\u001b[1;33m \u001b[0mpromedio_faltas_liga\u001b[0m\u001b[1;33m[\u001b[0m\u001b[1;34m\"Faltas promedio por Liga\"\u001b[0m\u001b[1;33m]\u001b[0m\u001b[1;33m=\u001b[0m\u001b[0mpromedio_faltas_liga\u001b[0m\u001b[1;33m[\u001b[0m\u001b[1;34m\"Faltas promedio por Liga\"\u001b[0m\u001b[1;33m]\u001b[0m\u001b[1;33m.\u001b[0m\u001b[0mapply\u001b[0m\u001b[1;33m(\u001b[0m\u001b[1;32mlambda\u001b[0m \u001b[0mx\u001b[0m\u001b[1;33m:\u001b[0m \u001b[0mround\u001b[0m\u001b[1;33m(\u001b[0m\u001b[0mx\u001b[0m\u001b[1;33m,\u001b[0m\u001b[1;36m2\u001b[0m\u001b[1;33m)\u001b[0m\u001b[1;33m)\u001b[0m\u001b[1;33m\u001b[0m\u001b[1;33m\u001b[0m\u001b[0m\n\u001b[0m",
      "\u001b[1;31mNameError\u001b[0m: name 'promedio_faltas_liga' is not defined"
     ]
    }
   ],
   "source": [
    "promedio_faltas_liga[\"Faltas promedio por Liga\"]=promedio_faltas_liga[\"Faltas promedio por Liga\"].apply(lambda x: round(x,2))"
   ]
  },
  {
   "cell_type": "code",
   "execution_count": null,
   "id": "e6fd5206",
   "metadata": {},
   "outputs": [],
   "source": [
    "#posiciones finales\n",
    "coordenada_x_f=[]\n",
    "coordenada_y_f=[]\n",
    "\n",
    "\n",
    "for i in range(0,len(eventos)):\n",
    "    if len(eventos[\"positions\"][i])==2:\n",
    "        coordenada_x_f.append(eventos[\"positions\"][i][1][\"x\"])\n",
    "        coordenada_y_f.append(eventos[\"positions\"][i][1][\"y\"])\n",
    "    else:\n",
    "        coordenada_x_f.append(0)\n",
    "        coordenada_y_f.append(0)"
   ]
  },
  {
   "cell_type": "code",
   "execution_count": null,
   "id": "c950fa0a",
   "metadata": {},
   "outputs": [],
   "source": [
    "#posiciones iniciales\n",
    "coordenada_x_0=[]\n",
    "coordenada_y_0=[]\n",
    "\n",
    "for i in range(0,len(eventos)):\n",
    "    coordenada_x_0.append(eventos[\"positions\"][i][0][\"x\"])\n",
    "    coordenada_y_0.append(eventos[\"positions\"][i][0][\"y\"])"
   ]
  },
  {
   "cell_type": "code",
   "execution_count": null,
   "id": "d149ca27",
   "metadata": {},
   "outputs": [],
   "source": [
    "eventos_coordenadas=pd.DataFrame()\n",
    "eventos_coordenadas[\"X_0\"]=coordenada_x_0\n",
    "eventos_coordenadas[\"Y_0\"]=coordenada_y_0\n",
    "eventos_coordenadas[\"X_f\"]=coordenada_x_f\n",
    "eventos_coordenadas[\"Y_f\"]=coordenada_y_f\n",
    "eventos_coordenadas[\"Evento\"]=eventos[\"eventName\"]\n",
    "eventos_coordenadas[\"Nombre_Jugador\"]=eventos[\"Nombre Jugador\"]\n",
    "eventos_coordenadas[\"Nombre_Equipo\"]=eventos[\"Nombre\"]\n",
    "eventos_coordenadas[\"Posicion\"]=eventos[\"Posicion\"]\n",
    "eventos_coordenadas[\"Liga\"]=eventos[\"Liga\"]\n",
    "eventos_coordenadas[\"subEvento\"]=eventos[\"subEventName\"]\n",
    "eventos_coordenadas[\"matchId\"]=eventos[\"matchId\"]\n",
    "eventos_coordenadas[\"Periodo\"]=eventos[\"matchPeriod\"]\n",
    "eventos_coordenadas[\"Tiempo\"]=eventos[\"eventSec\"]\n",
    "eventos_coordenadas[\"Suceso\"]=eventos[\"tags\"]\n",
    "eventos_coordenadas[\"Tiempo_Juego\"] = eventos_coordenadas['Tiempo'].apply(lambda x: 0 if x<60 else x /60)"
   ]
  },
  {
   "cell_type": "code",
   "execution_count": null,
   "id": "afe6b15a",
   "metadata": {},
   "outputs": [],
   "source": [
    "eventos_coordenadas[\"Suc1\"]=eventos_coordenadas[\"Suceso\"].apply(lambda x: list(x[0].items())[0][1] if len (x) >0 else 0)\n",
    "eventos_coordenadas[\"Suc2\"]=eventos_coordenadas[\"Suceso\"].apply(lambda x: list(x[1].items())[0][1] if len (x) >1 else 0)\n",
    "eventos_coordenadas[\"Suc3\"]=eventos_coordenadas[\"Suceso\"].apply(lambda x: list(x[2].items())[0][1] if len (x) >2 else 0)\n",
    "eventos_coordenadas[\"Suc4\"]=eventos_coordenadas[\"Suceso\"].apply(lambda x: list(x[3].items())[0][1] if len (x) >3 else 0)\n",
    "eventos_coordenadas[\"Suc5\"]=eventos_coordenadas[\"Suceso\"].apply(lambda x: list(x[4].items())[0][1] if len (x) >4 else 0)\n",
    "eventos_coordenadas[\"Suc6\"]=eventos_coordenadas[\"Suceso\"].apply(lambda x: list(x[5].items())[0][1] if len (x) >5 else 0)"
   ]
  },
  {
   "cell_type": "code",
   "execution_count": null,
   "id": "28e4b6a2",
   "metadata": {},
   "outputs": [],
   "source": [
    "goles=eventos_coordenadas[\"Suc1\"]==101"
   ]
  },
  {
   "cell_type": "code",
   "execution_count": null,
   "id": "1f59699e",
   "metadata": {
    "scrolled": true
   },
   "outputs": [],
   "source": [
    "eventos_coordenadas[goles].Evento.value_counts()"
   ]
  },
  {
   "cell_type": "code",
   "execution_count": null,
   "id": "ef1b8aeb",
   "metadata": {},
   "outputs": [],
   "source": [
    "#saco los decimales al minuto de juego\n",
    "eventos_coordenadas[\"Tiempo_Juego\"]=eventos_coordenadas[\"Tiempo_Juego\"].apply(lambda x:math.trunc(x))"
   ]
  },
  {
   "cell_type": "code",
   "execution_count": null,
   "id": "55a9bc12",
   "metadata": {},
   "outputs": [],
   "source": [
    "primer_tiempo=eventos_coordenadas[\"Periodo\"]==\"1H\"\n",
    "segundo_tiempo=eventos_coordenadas[\"Periodo\"]==\"2H\"\n"
   ]
  },
  {
   "cell_type": "code",
   "execution_count": null,
   "id": "873b3147",
   "metadata": {},
   "outputs": [],
   "source": [
    "group_labels_1H = ['[0-15]','[15-30]', '[30-45]',\"Adicion 1H\"]\n",
    "group_labels_2H = ['[45-60]','[60-75]', '[75-90]',\"Adicion 2H\"]\n",
    "bins = [0,15,30,45,90]\n",
    "numcol_categories_1H = pd.cut(eventos_coordenadas[\"Tiempo_Juego\"][primer_tiempo], bins, labels=group_labels_1H,right=False)\n",
    "numcol_categories_2H = pd.cut(eventos_coordenadas[\"Tiempo_Juego\"][segundo_tiempo], bins, labels=group_labels_2H,right=False)"
   ]
  },
  {
   "cell_type": "code",
   "execution_count": null,
   "id": "251ce858",
   "metadata": {},
   "outputs": [],
   "source": [
    "eventos_coordenadas[\"1H\"]=numcol_categories_1H.astype(str)\n",
    "eventos_coordenadas[\"2H\"]=numcol_categories_2H.astype(str)"
   ]
  },
  {
   "cell_type": "code",
   "execution_count": null,
   "id": "183e6d2f",
   "metadata": {},
   "outputs": [],
   "source": [
    "eventos_coordenadas[\"Franja_Tiempo\"]=eventos_coordenadas['1H'].fillna(eventos_coordenadas['2H'])"
   ]
  },
  {
   "cell_type": "code",
   "execution_count": null,
   "id": "1e7ffef9",
   "metadata": {
    "scrolled": true
   },
   "outputs": [],
   "source": [
    "cuadrante_1=(eventos_coordenadas[\"Suc1\"]==1208)|(eventos_coordenadas[\"Suc2\"]==1208)|(eventos_coordenadas[\"Suc3\"]==1208)|(eventos_coordenadas[\"Suc4\"]==1208)|(eventos_coordenadas[\"Suc5\"]==1208)|(eventos_coordenadas[\"Suc6\"]==1208)\n",
    "cuadrante_2=(eventos_coordenadas[\"Suc1\"]==1207)|(eventos_coordenadas[\"Suc2\"]==1207)|(eventos_coordenadas[\"Suc3\"]==1207)|(eventos_coordenadas[\"Suc4\"]==1207)|(eventos_coordenadas[\"Suc5\"]==1207)|(eventos_coordenadas[\"Suc6\"]==1207)\n",
    "cuadrante_3=(eventos_coordenadas[\"Suc1\"]==1209)|(eventos_coordenadas[\"Suc2\"]==1209)|(eventos_coordenadas[\"Suc3\"]==1209)|(eventos_coordenadas[\"Suc4\"]==1209)|(eventos_coordenadas[\"Suc5\"]==1209)|(eventos_coordenadas[\"Suc6\"]==1209)\n",
    "cuadrante_4=(eventos_coordenadas[\"Suc1\"]==1204)|(eventos_coordenadas[\"Suc2\"]==1204)|(eventos_coordenadas[\"Suc3\"]==1204)|(eventos_coordenadas[\"Suc4\"]==1204)|(eventos_coordenadas[\"Suc5\"]==1204)|(eventos_coordenadas[\"Suc6\"]==1204)\n",
    "cuadrante_5=(eventos_coordenadas[\"Suc1\"]==1203)|(eventos_coordenadas[\"Suc2\"]==1203)|(eventos_coordenadas[\"Suc3\"]==1203)|(eventos_coordenadas[\"Suc4\"]==1203)|(eventos_coordenadas[\"Suc5\"]==1203)|(eventos_coordenadas[\"Suc6\"]==1203)\n",
    "cuadrante_6=(eventos_coordenadas[\"Suc1\"]==1206)|(eventos_coordenadas[\"Suc2\"]==1206)|(eventos_coordenadas[\"Suc3\"]==1206)|(eventos_coordenadas[\"Suc4\"]==1206)|(eventos_coordenadas[\"Suc5\"]==1206)|(eventos_coordenadas[\"Suc6\"]==1206)\n",
    "cuadrante_7=(eventos_coordenadas[\"Suc1\"]==1205)|(eventos_coordenadas[\"Suc2\"]==1205)|(eventos_coordenadas[\"Suc3\"]==1205)|(eventos_coordenadas[\"Suc4\"]==1205)|(eventos_coordenadas[\"Suc5\"]==1205)|(eventos_coordenadas[\"Suc6\"]==1205)\n",
    "cuadrante_8=(eventos_coordenadas[\"Suc1\"]==1201)|(eventos_coordenadas[\"Suc2\"]==1201)|(eventos_coordenadas[\"Suc3\"]==1201)|(eventos_coordenadas[\"Suc4\"]==1201)|(eventos_coordenadas[\"Suc5\"]==1201)|(eventos_coordenadas[\"Suc6\"]==1201)\n",
    "cuadrante_9=(eventos_coordenadas[\"Suc1\"]==1202)|(eventos_coordenadas[\"Suc2\"]==1202)|(eventos_coordenadas[\"Suc3\"]==1202)|(eventos_coordenadas[\"Suc4\"]==1202)|(eventos_coordenadas[\"Suc5\"]==1202)|(eventos_coordenadas[\"Suc6\"]==1202)\n",
    "\n"
   ]
  },
  {
   "cell_type": "code",
   "execution_count": null,
   "id": "64a22958",
   "metadata": {},
   "outputs": [],
   "source": [
    "eventos_coordenadas.drop(columns=['Tiempo',\"Suceso\",\"1H\",\"2H\"],inplace=True)"
   ]
  },
  {
   "cell_type": "code",
   "execution_count": null,
   "id": "df1437a8",
   "metadata": {},
   "outputs": [],
   "source": [
    "conditions = [\n",
    "    ((eventos_coordenadas[\"Suc1\"]==1208)|(eventos_coordenadas[\"Suc2\"]==1208)|(eventos_coordenadas[\"Suc3\"]==1208)|(eventos_coordenadas[\"Suc4\"]==1208)|(eventos_coordenadas[\"Suc5\"]==1208)|(eventos_coordenadas[\"Suc6\"]==1208)),\n",
    "(eventos_coordenadas[\"Suc1\"]==1207)|(eventos_coordenadas[\"Suc2\"]==1207)|(eventos_coordenadas[\"Suc3\"]==1207)|(eventos_coordenadas[\"Suc4\"]==1207)|(eventos_coordenadas[\"Suc5\"]==1207)|(eventos_coordenadas[\"Suc6\"]==1207),\n",
    "    (eventos_coordenadas[\"Suc1\"]==1209)|(eventos_coordenadas[\"Suc2\"]==1209)|(eventos_coordenadas[\"Suc3\"]==1209)|(eventos_coordenadas[\"Suc4\"]==1209)|(eventos_coordenadas[\"Suc5\"]==1209)|(eventos_coordenadas[\"Suc6\"]==1209),\n",
    "    (eventos_coordenadas[\"Suc1\"]==1204)|(eventos_coordenadas[\"Suc2\"]==1204)|(eventos_coordenadas[\"Suc3\"]==1204)|(eventos_coordenadas[\"Suc4\"]==1204)|(eventos_coordenadas[\"Suc5\"]==1204)|(eventos_coordenadas[\"Suc6\"]==1204),\n",
    "    (eventos_coordenadas[\"Suc1\"]==1203)|(eventos_coordenadas[\"Suc2\"]==1203)|(eventos_coordenadas[\"Suc3\"]==1203)|(eventos_coordenadas[\"Suc4\"]==1203)|(eventos_coordenadas[\"Suc5\"]==1203)|(eventos_coordenadas[\"Suc6\"]==1203),\n",
    "    (eventos_coordenadas[\"Suc1\"]==1206)|(eventos_coordenadas[\"Suc2\"]==1206)|(eventos_coordenadas[\"Suc3\"]==1206)|(eventos_coordenadas[\"Suc4\"]==1206)|(eventos_coordenadas[\"Suc5\"]==1206)|(eventos_coordenadas[\"Suc6\"]==1206),\n",
    "    (eventos_coordenadas[\"Suc1\"]==1205)|(eventos_coordenadas[\"Suc2\"]==1205)|(eventos_coordenadas[\"Suc3\"]==1205)|(eventos_coordenadas[\"Suc4\"]==1205)|(eventos_coordenadas[\"Suc5\"]==1205)|(eventos_coordenadas[\"Suc6\"]==1205),\n",
    "    (eventos_coordenadas[\"Suc1\"]==1201)|(eventos_coordenadas[\"Suc2\"]==1201)|(eventos_coordenadas[\"Suc3\"]==1201)|(eventos_coordenadas[\"Suc4\"]==1201)|(eventos_coordenadas[\"Suc5\"]==1201)|(eventos_coordenadas[\"Suc6\"]==1201),\n",
    "    (eventos_coordenadas[\"Suc1\"]==1202)|(eventos_coordenadas[\"Suc2\"]==1202)|(eventos_coordenadas[\"Suc3\"]==1202)|(eventos_coordenadas[\"Suc4\"]==1202)|(eventos_coordenadas[\"Suc5\"]==1202)|(eventos_coordenadas[\"Suc6\"]==1202)\n",
    "    \n",
    "    \n",
    "]\n",
    "\n",
    "# create a list of the values we want to assign for each condition\n",
    "values = [\"Cuadrante_1\",\"Cuadrante_2\",\"Cuadrante_3\",\"Cuadrante_4\",\"Cuadrante_5\",\"Cuadrante_6\",\"Cuadrante_7\",\"Cuadrante_8\",\"Cuadrante_9\"]\n",
    "\n",
    "# create a new column and use np.select to assign values to it using our lists as arguments\n",
    "eventos_coordenadas['Cuadrantes'] = np.select(conditions, values)"
   ]
  },
  {
   "cell_type": "code",
   "execution_count": null,
   "id": "cd6cd033",
   "metadata": {},
   "outputs": [],
   "source": [
    "condiciones = [\n",
    "    ((eventos_coordenadas[\"Suc1\"]==401)|(eventos_coordenadas[\"Suc2\"]==401)|(eventos_coordenadas[\"Suc3\"]==401)|(eventos_coordenadas[\"Suc4\"]==401)|(eventos_coordenadas[\"Suc5\"]==401)|(eventos_coordenadas[\"Suc6\"]==401)),\n",
    "    (eventos_coordenadas[\"Suc1\"]==402)|(eventos_coordenadas[\"Suc2\"]==402)|(eventos_coordenadas[\"Suc3\"]==402)|(eventos_coordenadas[\"Suc4\"]==402)|(eventos_coordenadas[\"Suc5\"]==402)|(eventos_coordenadas[\"Suc6\"]==402),\n",
    "    (eventos_coordenadas[\"Suc1\"]==403)|(eventos_coordenadas[\"Suc2\"]==403)|(eventos_coordenadas[\"Suc3\"]==403)|(eventos_coordenadas[\"Suc4\"]==403)|(eventos_coordenadas[\"Suc5\"]==403)|(eventos_coordenadas[\"Suc6\"]==403)\n",
    "\n",
    "    \n",
    "]\n",
    "\n",
    "# create a list of the values we want to assign for each condition\n",
    "valores = [\"Izquierda\",\"Derecha\",\"Cuerpo/Cabeza\"]\n",
    "\n",
    "# create a new column and use np.select to assign values to it using our lists as arguments\n",
    "eventos_coordenadas['Pierna'] = np.select(condiciones, valores)"
   ]
  },
  {
   "cell_type": "code",
   "execution_count": null,
   "id": "3398cc22",
   "metadata": {},
   "outputs": [],
   "source": [
    "eventos_coordenadas[goles].Evento.value_counts()"
   ]
  },
  {
   "cell_type": "code",
   "execution_count": null,
   "id": "868085c2",
   "metadata": {},
   "outputs": [],
   "source": [
    "no_atajadas=(eventos_coordenadas[\"Evento\"]==\"Shot\") | (eventos_coordenadas[\"Evento\"]==\"Free Kick\")"
   ]
  },
  {
   "cell_type": "code",
   "execution_count": null,
   "id": "8b7f2917",
   "metadata": {},
   "outputs": [],
   "source": [
    "auto_gol=eventos_coordenadas[\"Suc1\"]==102"
   ]
  },
  {
   "cell_type": "code",
   "execution_count": null,
   "id": "fcdd6b36",
   "metadata": {
    "scrolled": false
   },
   "outputs": [],
   "source": [
    "goles_por_partido=eventos_coordenadas[no_atajadas][goles]"
   ]
  },
  {
   "cell_type": "code",
   "execution_count": null,
   "id": "355da542",
   "metadata": {},
   "outputs": [],
   "source": [
    "goles_liga=[980,988,994,998,833]"
   ]
  },
  {
   "cell_type": "code",
   "execution_count": null,
   "id": "bcc6264d",
   "metadata": {},
   "outputs": [],
   "source": [
    "promedio_goles_liga=pd.DataFrame()\n",
    "promedio_goles_liga[\"Liga\"]=ligas\n",
    "promedio_goles_liga[\"Goles\"]=goles_liga\n",
    "promedio_goles_liga[\"Cant. Partidos\"]=partidos_liga"
   ]
  },
  {
   "cell_type": "code",
   "execution_count": null,
   "id": "eff9930c",
   "metadata": {},
   "outputs": [],
   "source": [
    "goles_promedio_liga=[]\n",
    "for i in range(0,len(promedio_goles_liga)):\n",
    "    goles_promedio_liga.append(promedio_goles_liga[\"Goles\"][i]/promedio_goles_liga[\"Cant. Partidos\"][i])"
   ]
  },
  {
   "cell_type": "code",
   "execution_count": null,
   "id": "d19dec6b",
   "metadata": {},
   "outputs": [],
   "source": [
    "promedio_goles_liga[\"Goles promedio por Liga\"]=goles_promedio_liga"
   ]
  },
  {
   "cell_type": "code",
   "execution_count": null,
   "id": "3b306552",
   "metadata": {
    "scrolled": false
   },
   "outputs": [],
   "source": [
    "\n",
    "sns_plot = sns.catplot(x='Liga', data=goles_por_partido, kind=\"count\", height=5,\n",
    "                          aspect=3, edgecolor='black');\n",
    "sns_plot.fig.subplots_adjust(top=.9)\n",
    "sns_plot.fig.suptitle(\"Cantidad de goles por liga\",fontsize=22)\n",
    "sns_plot.set_ylabels(\"Cantidad de goles\")\n",
    "sns_plot.set_xlabels(\"Ligas\")\n",
    "ax = plt.gca()\n",
    "\n",
    "# Añadir texto a cada columna\n",
    "for p in ax.patches:\n",
    "    ax.text(p.get_x() + p.get_width()/2., p.get_height(),\n",
    "            '{0}'.format(int(p.get_height())),\n",
    "            fontsize=10, color='black', ha='center', va='bottom')\n",
    "plt.show()"
   ]
  },
  {
   "cell_type": "code",
   "execution_count": null,
   "id": "5f7f757c",
   "metadata": {
    "scrolled": true
   },
   "outputs": [],
   "source": [
    "goles_locales=[]\n",
    "for i in range(0,20086):\n",
    "    goles_locales.append(formaciones_locales[i][\"goals\"])"
   ]
  },
  {
   "cell_type": "code",
   "execution_count": null,
   "id": "b87e95d4",
   "metadata": {},
   "outputs": [],
   "source": [
    "ayuda_id_match=pd.DataFrame()\n",
    "ayuda_id_match[\"id_match\"]=match_id\n",
    "ayuda_id_match[\"Equipo_Local\"]=equipo_L\n",
    "ayuda_id_match[\"Equipo_Vistante\"]=equipo_V\n",
    "ayuda_id_match[\"Goles_Locales\"]=goles_L\n",
    "ayuda_id_match[\"Goles_visitante\"]=goles_V\n",
    "ayuda_id_match[\"Fecha\"]=date\n",
    "ayuda_id_match[\"label\"]=label\n",
    "\n",
    "ayuda_id_match"
   ]
  },
  {
   "cell_type": "code",
   "execution_count": null,
   "id": "073b4dff",
   "metadata": {},
   "outputs": [],
   "source": [
    "eventos_coordenadas=pd.merge(eventos_coordenadas,ayuda_id_match,left_on=[\"matchId\"], right_on=\"id_match\",how=\"left\")"
   ]
  },
  {
   "cell_type": "code",
   "execution_count": null,
   "id": "98b92920",
   "metadata": {},
   "outputs": [],
   "source": [
    "localia=[]\n",
    "for i in range(0,len(eventos_coordenadas)):\n",
    "    if eventos_coordenadas[\"Nombre_Equipo\"][i]==eventos_coordenadas[\"Equipo_Local\"][i]:\n",
    "        localia.append(\"Local\")\n",
    "    elif eventos_coordenadas[\"Nombre_Equipo\"][i]==eventos_coordenadas[\"Equipo_Vistante\"][i]:\n",
    "        localia.append(\"Visitante\")\n",
    "eventos_coordenadas[\"Localia\"]=localia"
   ]
  },
  {
   "cell_type": "code",
   "execution_count": null,
   "id": "27caaf36",
   "metadata": {},
   "outputs": [],
   "source": [
    "rival=[]\n",
    "for i in range(0,len(eventos_coordenadas)):\n",
    "    if eventos_coordenadas[\"Nombre_Equipo\"][i]==eventos_coordenadas[\"Equipo_Local\"][i]:\n",
    "        rival.append(eventos_coordenadas[\"Equipo_Vistante\"][i])\n",
    "    elif eventos_coordenadas[\"Nombre_Equipo\"][i]==eventos_coordenadas[\"Equipo_Vistante\"][i]:\n",
    "        rival.append(eventos_coordenadas[\"Equipo_Local\"][i])"
   ]
  },
  {
   "cell_type": "code",
   "execution_count": null,
   "id": "276d685f",
   "metadata": {},
   "outputs": [],
   "source": [
    "eventos_coordenadas[\"Rival\"]=rival"
   ]
  },
  {
   "cell_type": "code",
   "execution_count": null,
   "id": "e7636ad3",
   "metadata": {},
   "outputs": [],
   "source": [
    "matches_goals=pd.merge(goles_por_partido,ayuda_id_match,left_on=[\"matchId\"], right_on=\"id_match\",how=\"left\")"
   ]
  },
  {
   "cell_type": "code",
   "execution_count": null,
   "id": "c3abe907",
   "metadata": {},
   "outputs": [],
   "source": [
    "goles_tiempo=matches_goals[[\"Nombre_Equipo\",\"matchId\",\"Periodo\",\"Tiempo_Juego\",\"Equipo_Local\",\"Equipo_Vistante\"]]"
   ]
  },
  {
   "cell_type": "code",
   "execution_count": null,
   "id": "0dec03b4",
   "metadata": {},
   "outputs": [],
   "source": [
    "unicos=goles_tiempo[\"matchId\"].unique()\n",
    "unicos"
   ]
  },
  {
   "cell_type": "code",
   "execution_count": null,
   "id": "7776943f",
   "metadata": {},
   "outputs": [],
   "source": [
    "resultado=[]\n",
    "n=0\n",
    "k=0\n",
    "for i in range(1,len(goles_tiempo)):\n",
    "        if (goles_tiempo[\"Nombre_Equipo\"][i]==goles_tiempo[\"Equipo_Local\"][i]) & (goles_tiempo[\"matchId\"][i-1]==goles_tiempo[\"matchId\"][i]):\n",
    "            n+=1 \n",
    "            resultado.append([n,k])\n",
    "        elif (goles_tiempo[\"Nombre_Equipo\"][i]==goles_tiempo[\"Equipo_Vistante\"][i])& (goles_tiempo[\"matchId\"][i-1]==goles_tiempo[\"matchId\"][i]):\n",
    "            k+=1\n",
    "            resultado.append([n,k])\n",
    "        elif (goles_tiempo[\"Nombre_Equipo\"][i]==goles_tiempo[\"Equipo_Local\"][i]) & (goles_tiempo[\"matchId\"][i-1]!=goles_tiempo[\"matchId\"][i]):\n",
    "            n=0\n",
    "            k=0\n",
    "            n+=1\n",
    "            resultado.append([n,k])\n",
    "        elif (goles_tiempo[\"Nombre_Equipo\"][i]==goles_tiempo[\"Equipo_Vistante\"][i]) & (goles_tiempo[\"matchId\"][i-1]!=goles_tiempo[\"matchId\"][i]):\n",
    "            n=0\n",
    "            k=0\n",
    "            k+=1\n",
    "            resultado.append([n,k])"
   ]
  },
  {
   "cell_type": "code",
   "execution_count": null,
   "id": "e2bba47e",
   "metadata": {},
   "outputs": [],
   "source": [
    "#agrego el primer resultado que no me tomó\n",
    "resultado.insert(0,[0,1])"
   ]
  },
  {
   "cell_type": "code",
   "execution_count": null,
   "id": "df24bc31",
   "metadata": {
    "scrolled": false
   },
   "outputs": [],
   "source": [
    "goles_tiempo[\"Resultado\"]=resultado"
   ]
  },
  {
   "cell_type": "code",
   "execution_count": null,
   "id": "0b1c53c1",
   "metadata": {},
   "outputs": [],
   "source": [
    "goles_tiempo[\"Tiempo_90\"]=0"
   ]
  },
  {
   "cell_type": "code",
   "execution_count": null,
   "id": "e366be7b",
   "metadata": {},
   "outputs": [],
   "source": [
    "#cambio a formato de 90 minutos\n",
    "for i in range(0,len(goles_tiempo)):\n",
    "    if (goles_tiempo[\"Periodo\"][i]==\"1H\") & (goles_tiempo[\"Tiempo_Juego\"][i]<=45):\n",
    "        goles_tiempo[\"Tiempo_90\"][i]=goles_tiempo[\"Tiempo_Juego\"][i]\n",
    "    elif (goles_tiempo[\"Periodo\"][i]==\"2H\") & (goles_tiempo[\"Tiempo_Juego\"][i]<=45):\n",
    "        goles_tiempo[\"Tiempo_90\"][i]=goles_tiempo[\"Tiempo_Juego\"][i]+45\n",
    "    elif (goles_tiempo[\"Periodo\"][i]==\"1H\") & (goles_tiempo[\"Tiempo_Juego\"][i]>=45):\n",
    "        goles_tiempo[\"Tiempo_90\"][i]=45\n",
    "    else:\n",
    "        goles_tiempo[\"Tiempo_90\"][i]=90\n",
    "    "
   ]
  },
  {
   "cell_type": "code",
   "execution_count": null,
   "id": "91fc2560",
   "metadata": {},
   "outputs": [],
   "source": [
    "#comoVa es una funcion que te indica el resultado del partido segun el minuto y el id del partido que pongas\n",
    "\n",
    "def comoVa(tiempo,matchId):\n",
    "    if matchId not in unicos:\n",
    "        return [0,0]\n",
    "    else:\n",
    "        for i in range(0,4785):\n",
    "            if (goles_tiempo[\"matchId\"][i]==matchId)& (goles_por_matchid[matchId]==1)&(tiempo>=goles_tiempo[\"Tiempo_90\"][i]):\n",
    "                return goles_tiempo[\"Resultado\"][i]\n",
    "            elif (goles_tiempo[\"matchId\"][i]==matchId)&(goles_por_matchid[matchId]>=1)&(tiempo>=goles_tiempo[\"Tiempo_90\"][i])&(goles_tiempo[\"matchId\"][i+1]!=matchId):\n",
    "                return goles_tiempo[\"Resultado\"][i]\n",
    "            elif (goles_tiempo[\"matchId\"][i]==matchId)&(goles_por_matchid[matchId]>=2)&(tiempo>=goles_tiempo[\"Tiempo_90\"][i+1])&(goles_tiempo[\"matchId\"][i+2]!=matchId):\n",
    "                return goles_tiempo[\"Resultado\"][i+1]\n",
    "            elif (goles_tiempo[\"matchId\"][i]==matchId)&(goles_por_matchid[matchId]>=3)&(tiempo>=goles_tiempo[\"Tiempo_90\"][i+2])&(goles_tiempo[\"matchId\"][i+3]!=matchId):\n",
    "                return goles_tiempo[\"Resultado\"][i+2] \n",
    "            elif (goles_tiempo[\"matchId\"][i]==matchId)&(goles_por_matchid[matchId]>=4)&(tiempo>=goles_tiempo[\"Tiempo_90\"][i+3])&(goles_tiempo[\"matchId\"][i+4]!=matchId):\n",
    "                return goles_tiempo[\"Resultado\"][i+3]\n",
    "            elif (goles_tiempo[\"matchId\"][i]==matchId)&(goles_por_matchid[matchId]>=5)&(tiempo>=goles_tiempo[\"Tiempo_90\"][i+4])&(goles_tiempo[\"matchId\"][i+5]!=matchId):\n",
    "                return goles_tiempo[\"Resultado\"][i+4]\n",
    "            elif (goles_tiempo[\"matchId\"][i]==matchId)&(goles_por_matchid[matchId]>=6)&(tiempo>=goles_tiempo[\"Tiempo_90\"][i+5])&(goles_tiempo[\"matchId\"][i+6]!=matchId):\n",
    "                return goles_tiempo[\"Resultado\"][i+5]\n",
    "            elif (goles_tiempo[\"matchId\"][i]==matchId)&(goles_por_matchid[matchId]>=7)&(tiempo>=goles_tiempo[\"Tiempo_90\"][i+6])&(goles_tiempo[\"matchId\"][i+7]!=matchId):\n",
    "                return goles_tiempo[\"Resultado\"][i+6]\n",
    "            elif (goles_tiempo[\"matchId\"][i]==matchId)&(goles_por_matchid[matchId]>=8)&(tiempo>=goles_tiempo[\"Tiempo_90\"][i+7])&(goles_tiempo[\"matchId\"][i+8]!=matchId):\n",
    "                return goles_tiempo[\"Resultado\"][i+7]\n",
    "            elif (goles_tiempo[\"matchId\"][i]==matchId)&(goles_por_matchid[matchId]>=9)&(tiempo>=goles_tiempo[\"Tiempo_90\"][i+8]):\n",
    "                return goles_tiempo[\"Resultado\"][i+8]\n",
    "            elif (goles_tiempo[\"matchId\"][i]==matchId)&(goles_por_matchid[matchId]>=1)&(tiempo>=goles_tiempo[\"Tiempo_90\"][i])&(goles_tiempo[\"matchId\"][i+1]==matchId):\n",
    "                return goles_tiempo[\"Resultado\"][i]\n",
    "            elif (goles_tiempo[\"matchId\"][i]==matchId)&(goles_por_matchid[matchId]>=2)&(tiempo>=goles_tiempo[\"Tiempo_90\"][i+1])&(goles_tiempo[\"matchId\"][i+2]==matchId):\n",
    "                return goles_tiempo[\"Resultado\"][i+1]\n",
    "            elif (goles_tiempo[\"matchId\"][i]==matchId)&(goles_por_matchid[matchId]>=3)&(tiempo>=goles_tiempo[\"Tiempo_90\"][i+2])&(goles_tiempo[\"matchId\"][i+3]==matchId):\n",
    "                return goles_tiempo[\"Resultado\"][i+2] \n",
    "            elif (goles_tiempo[\"matchId\"][i]==matchId)&(goles_por_matchid[matchId]>=4)&(tiempo>=goles_tiempo[\"Tiempo_90\"][i+3])&(goles_tiempo[\"matchId\"][i+4]==matchId):\n",
    "                return goles_tiempo[\"Resultado\"][i+3]\n",
    "            elif (goles_tiempo[\"matchId\"][i]==matchId)&(goles_por_matchid[matchId]>=5)&(tiempo>=goles_tiempo[\"Tiempo_90\"][i+4])&(goles_tiempo[\"matchId\"][i+5]==matchId):\n",
    "                return goles_tiempo[\"Resultado\"][i+4]\n",
    "            elif (goles_tiempo[\"matchId\"][i]==matchId)&(goles_por_matchid[matchId]>=6)&(tiempo>=goles_tiempo[\"Tiempo_90\"][i+5])&(goles_tiempo[\"matchId\"][i+6]==matchId):\n",
    "                return goles_tiempo[\"Resultado\"][i+5]\n",
    "            elif (goles_tiempo[\"matchId\"][i]==matchId)&(goles_por_matchid[matchId]>=7)&(tiempo>=goles_tiempo[\"Tiempo_90\"][i+6])&(goles_tiempo[\"matchId\"][i+7]==matchId):\n",
    "                return goles_tiempo[\"Resultado\"][i+6]\n",
    "            elif (goles_tiempo[\"matchId\"][i]==matchId)&(goles_por_matchid[matchId]>=8)&(tiempo>=goles_tiempo[\"Tiempo_90\"][i+7])&(goles_tiempo[\"matchId\"][i+8]==matchId):\n",
    "                return goles_tiempo[\"Resultado\"][i+7]\n",
    "            elif (goles_tiempo[\"matchId\"][i]==matchId)&(goles_por_matchid[matchId]>=9)&(tiempo>=goles_tiempo[\"Tiempo_90\"][i+8]):\n",
    "                return goles_tiempo[\"Resultado\"][i+8]\n",
    "            elif (goles_tiempo[\"matchId\"][i]==matchId)& (goles_por_matchid[matchId]>=1)&(tiempo<goles_tiempo[\"Tiempo_90\"][i]):\n",
    "                return [0,0]\n",
    "        "
   ]
  },
  {
   "cell_type": "code",
   "execution_count": null,
   "id": "8d051d9e",
   "metadata": {},
   "outputs": [],
   "source": [
    "eventos_coordenadas.subEvento"
   ]
  },
  {
   "cell_type": "code",
   "execution_count": null,
   "id": "5db7fd7e",
   "metadata": {},
   "outputs": [],
   "source": [
    "goles_por_matchid=goles_tiempo[\"matchId\"].value_counts()"
   ]
  },
  {
   "cell_type": "code",
   "execution_count": null,
   "id": "d590e8cb",
   "metadata": {},
   "outputs": [],
   "source": [
    "def quienGana(tiempo,matchId):\n",
    "        if comoVa(tiempo,matchId)[0]==comoVa(tiempo,matchId)[1]:\n",
    "            return \"Empatan\"\n",
    "        elif comoVa(tiempo,matchId)[0]>comoVa(tiempo,matchId)[1]:\n",
    "            return ayuda_id_match[ayuda_id_match[\"id_match\"]==matchId][\"Equipo_Local\"].reset_index()[\"Equipo_Local\"][0]\n",
    "        elif comoVa(tiempo,matchId)[1]>comoVa(tiempo,matchId)[0]:\n",
    "            return ayuda_id_match[ayuda_id_match[\"id_match\"]==matchId][\"Equipo_Vistante\"].reset_index()[\"Equipo_Vistante\"][0]"
   ]
  },
  {
   "cell_type": "code",
   "execution_count": null,
   "id": "83ea7528",
   "metadata": {},
   "outputs": [],
   "source": [
    "quienGana(63,2575966)"
   ]
  },
  {
   "cell_type": "code",
   "execution_count": null,
   "id": "5a98483d",
   "metadata": {},
   "outputs": [],
   "source": [
    "def pasarA90(tiempo,periodo):\n",
    "    eventos_coordenadas.loc[(periodo == \"1H\") & (tiempo <= 45), 'Tiempo_90'] = tiempo\n",
    "    eventos_coordenadas.loc[(periodo == \"2H\") & (tiempo<=45), 'Tiempo_90'] = tiempo +45\n",
    "    eventos_coordenadas.loc[(periodo == \"1H\") & (tiempo>45), 'Tiempo_90'] = 45\n",
    "    eventos_coordenadas.loc[(periodo == \"2H\") & (tiempo>45), 'Tiempo_90'] = 90"
   ]
  },
  {
   "cell_type": "code",
   "execution_count": null,
   "id": "6ab62744",
   "metadata": {},
   "outputs": [],
   "source": [
    "pasarA90(eventos_coordenadas[\"Tiempo_Juego\"],eventos_coordenadas[\"Periodo\"])"
   ]
  },
  {
   "cell_type": "code",
   "execution_count": null,
   "id": "603cc9c0",
   "metadata": {},
   "outputs": [],
   "source": [
    "penal=eventos_coordenadas[\"subEvento\"]==\"Penalty\""
   ]
  },
  {
   "cell_type": "code",
   "execution_count": null,
   "id": "1a384d3d",
   "metadata": {},
   "outputs": [],
   "source": [
    "eventos_coordenadas_penales=eventos_coordenadas[penal]"
   ]
  },
  {
   "cell_type": "code",
   "execution_count": null,
   "id": "8cb6ca89",
   "metadata": {
    "scrolled": true
   },
   "outputs": [],
   "source": [
    "eventos_coordenadas_penales=eventos_coordenadas_penales[[\"Nombre_Jugador\",\"Nombre_Equipo\",\"Liga\",\"matchId\",\"Franja_Tiempo\",\"Posicion\",\"Rival\",\"Cuadrantes\",\"Pierna\",\"Tiempo_90\",\"Periodo\",\"Tiempo_Juego\",\"Suc1\",\"Suc2\",\"Suc3\",\"Suc4\",\"Suc5\",\"Suc6\",\"subEvento\",\"Localia\"]]"
   ]
  },
  {
   "cell_type": "code",
   "execution_count": null,
   "id": "6ce00d41",
   "metadata": {},
   "outputs": [],
   "source": [
    "eventos_coordenadas_penales.reset_index(inplace=True)"
   ]
  },
  {
   "cell_type": "code",
   "execution_count": null,
   "id": "766f6185",
   "metadata": {},
   "outputs": [],
   "source": [
    "eventos_coordenadas_penales.drop(columns=[\"index\"],inplace=True)"
   ]
  },
  {
   "cell_type": "code",
   "execution_count": null,
   "id": "431ed2be",
   "metadata": {
    "scrolled": false
   },
   "outputs": [],
   "source": [
    "# como tarda mucho en cargar, lo hice y lo guarde en un csv para que no se demore cuando lo carguen\n",
    "# #me fijo un minuto antes como iba el partido\n",
    "# ganadores_penales=[]\n",
    "# for i in range(0,len(eventos_coordenadas_penales)):\n",
    "#     ganadores_penales.append(quienGana(eventos_coordenadas_penales[\"Tiempo_90\"][i]-1,eventos_coordenadas_penales[\"matchId\"][i]))\n",
    "#ganadores_penales_df=pd.DataFrame(ganadores_penales)\n",
    "#ganadores_penales_df.to_csv(\"C://Users/Usuario/Documents/Gonzalo/BDD/M12/ganadores_penales.csv\", index = False)"
   ]
  },
  {
   "cell_type": "code",
   "execution_count": null,
   "id": "d8cfab56",
   "metadata": {
    "scrolled": false
   },
   "outputs": [],
   "source": [
    "ganadores_penales = pd.read_csv(\"Archivos/ganadores_penales.csv\")"
   ]
  },
  {
   "cell_type": "code",
   "execution_count": null,
   "id": "8c31ce95",
   "metadata": {},
   "outputs": [],
   "source": [
    "eventos_coordenadas_penales[\"Ganadores\"]=ganadores_penales"
   ]
  },
  {
   "cell_type": "code",
   "execution_count": null,
   "id": "9bd06b1f",
   "metadata": {
    "scrolled": true
   },
   "outputs": [],
   "source": [
    "resultado_momentaneo_penales=[]\n",
    "for i in range(0,len(eventos_coordenadas_penales)):\n",
    "    if eventos_coordenadas_penales[\"Nombre_Equipo\"][i]==eventos_coordenadas_penales[\"Ganadores\"][i]:\n",
    "        resultado_momentaneo_penales.append(\"Gana\")\n",
    "    elif eventos_coordenadas_penales[\"Ganadores\"][i]==\"Empatan\":\n",
    "            resultado_momentaneo_penales.append(\"Empata\")\n",
    "    else:\n",
    "        resultado_momentaneo_penales.append(\"Pierde\")\n",
    "eventos_coordenadas_penales[\"Resultado\"]=resultado_momentaneo_penales"
   ]
  },
  {
   "cell_type": "code",
   "execution_count": null,
   "id": "bb17168d",
   "metadata": {},
   "outputs": [],
   "source": [
    "eventos_coordenadas_penales[\"Gol\"]=eventos_coordenadas_penales[\"Suc1\"].apply(lambda x: \"Gol\" if x==101 else \"No Gol\")"
   ]
  },
  {
   "cell_type": "code",
   "execution_count": null,
   "id": "a7e236e2",
   "metadata": {
    "scrolled": true
   },
   "outputs": [],
   "source": [
    "eventos_disparos=eventos_coordenadas[disparos]"
   ]
  },
  {
   "cell_type": "code",
   "execution_count": null,
   "id": "b164defc",
   "metadata": {},
   "outputs": [],
   "source": [
    "eventos_disparos.reset_index(inplace=True)"
   ]
  },
  {
   "cell_type": "code",
   "execution_count": null,
   "id": "4ff4fdac",
   "metadata": {},
   "outputs": [],
   "source": [
    "eventos_pases=eventos_coordenadas[pases]"
   ]
  },
  {
   "cell_type": "code",
   "execution_count": null,
   "id": "54187677",
   "metadata": {
    "scrolled": false
   },
   "outputs": [],
   "source": [
    "pases_condiciones = [\n",
    "    ((eventos_pases[\"Suc1\"]==1801)|(eventos_pases[\"Suc2\"]==1801)|(eventos_pases[\"Suc3\"]==1801)|(eventos_pases[\"Suc4\"]==1801)|(eventos_pases[\"Suc5\"]==1801)|(eventos_pases[\"Suc6\"]==1801)),\n",
    "    (eventos_pases[\"Suc1\"]==1802)|(eventos_pases[\"Suc2\"]==1802)|(eventos_pases[\"Suc3\"]==1802)|(eventos_pases[\"Suc4\"]==1802)|(eventos_pases[\"Suc5\"]==1802)|(eventos_pases[\"Suc6\"]==1802)\n",
    "\n",
    "    \n",
    "]\n",
    "\n",
    "# create a list of the values we want to assign for each condition\n",
    "valores_pases = [\"Preciso\",\"No preciso\"]\n",
    "\n",
    "# create a new column and use np.select to assign values to it using our lists as arguments\n",
    "eventos_pases['Precision'] = np.select(pases_condiciones, valores_pases)"
   ]
  },
  {
   "cell_type": "code",
   "execution_count": null,
   "id": "4ce938de",
   "metadata": {},
   "outputs": [],
   "source": [
    "eventos_pases.reset_index(inplace=True)"
   ]
  },
  {
   "cell_type": "code",
   "execution_count": null,
   "id": "577a36ca",
   "metadata": {},
   "outputs": [],
   "source": [
    "eventos_coordenadas=pd.merge(eventos_coordenadas,eventos_pases[[\"index\",\"Precision\"]],left_index=True, right_on=\"index\",how=\"left\")\n",
    "eventos_coordenadas.reset_index(inplace=True)\n",
    "eventos_coordenadas.drop(columns=\"level_0\",inplace=True)"
   ]
  },
  {
   "cell_type": "code",
   "execution_count": null,
   "id": "8ac38583",
   "metadata": {},
   "outputs": [],
   "source": [
    "receptor_pase=[]\n",
    "for i in range(0,len(eventos_coordenadas)-1):\n",
    "    if (eventos_coordenadas[\"Evento\"][i]==\"Pass\") & (eventos_coordenadas[\"Precision\"][i]==\"Preciso\"):\n",
    "        receptor_pase.append(eventos_coordenadas[\"Nombre_Jugador\"][i+1])\n",
    "    else:\n",
    "        receptor_pase.append(\"\")\n"
   ]
  },
  {
   "cell_type": "code",
   "execution_count": null,
   "id": "b14312ee",
   "metadata": {},
   "outputs": [],
   "source": [
    "#agrego ultimo\n",
    "receptor_pase.insert(len(eventos_coordenadas),\"\")"
   ]
  },
  {
   "cell_type": "code",
   "execution_count": null,
   "id": "4571fbff",
   "metadata": {},
   "outputs": [],
   "source": [
    "eventos_coordenadas[\"Receptor\"]=receptor_pase"
   ]
  },
  {
   "cell_type": "code",
   "execution_count": null,
   "id": "1f370ac7",
   "metadata": {},
   "outputs": [],
   "source": [
    "keypass=eventos_pases[\"Suc1\"]==302"
   ]
  },
  {
   "cell_type": "code",
   "execution_count": null,
   "id": "bae4073f",
   "metadata": {
    "scrolled": true
   },
   "outputs": [],
   "source": [
    "eventos_disparos=eventos_disparos[[\"X_0\",\"Y_0\",\"X_f\",\"Y_f\",\"Nombre_Jugador\",\"Nombre_Equipo\",\"Liga\",\"Franja_Tiempo\",\"Posicion\",\"Rival\",\"Cuadrantes\",\"Pierna\",\"Suc1\",\"Suc2\",\"Suc3\",\"Suc4\",\"Suc5\",\"Suc6\",\"matchId\",\"Tiempo_90\",\"label\",\"Localia\",\"subEvento\"]]"
   ]
  },
  {
   "cell_type": "code",
   "execution_count": null,
   "id": "de5bfb47",
   "metadata": {},
   "outputs": [],
   "source": [
    "eventos_pases=eventos_coordenadas[pases]"
   ]
  },
  {
   "cell_type": "code",
   "execution_count": null,
   "id": "8ef5961a",
   "metadata": {},
   "outputs": [],
   "source": [
    "eventos_pases_2=pd.concat([eventos_pases]*2,ignore_index=True)"
   ]
  },
  {
   "cell_type": "code",
   "execution_count": null,
   "id": "b67593d2",
   "metadata": {
    "scrolled": true
   },
   "outputs": [],
   "source": [
    "eventos_pases_2[\"Extremo\"]=0\n",
    "eventos_pases_2[\"Extremo\"]=eventos_pases_2[\"Extremo\"].iloc[0:1565356].apply(lambda x:\"Inicio\")\n",
    "eventos_pases_2[\"Extremo\"].fillna(\"Final\",inplace=True)\n",
    "eventos_pases_2[\"Indice\"]=eventos_pases_2[\"index\"]\n",
    "eventos_pases_2.drop(columns=\"index\",inplace=True)\n",
    "eventos_pases_2[\"Indice\"].iloc[0:1565356]=eventos_pases_2[\"Indice\"].iloc[1565356:]"
   ]
  },
  {
   "cell_type": "code",
   "execution_count": null,
   "id": "5dac2e20",
   "metadata": {},
   "outputs": [],
   "source": [
    "posicion_media = eventos_pases_2.groupby('Nombre_Jugador').agg({'X_0':['mean'],'Y_0':['mean','count']})\n",
    "posicion_media.columns = ['X_0','Y_0','count']"
   ]
  },
  {
   "cell_type": "code",
   "execution_count": null,
   "id": "568b9306",
   "metadata": {},
   "outputs": [],
   "source": [
    "#para crear la matriz de pases\n",
    "pass_between = eventos_pases_2.groupby(['Nombre_Jugador','Receptor',\"label\",\"Extremo\",\"Nombre_Equipo\"]).agg({'Liga': 'first','Rival': 'first',\"Evento\":\"count\"}).reset_index()\n",
    "#merge the average location dataframe. We need to merge on the passer first then the recipient\n",
    "pass_between.rename({'Evento':'pass_count'},axis='columns',inplace=True)\n",
    "pass_between = pass_between.merge(posicion_media, left_on='Nombre_Jugador',right_index=True)\n",
    "pass_between = pass_between.merge(posicion_media, left_on='Receptor',right_index=True,suffixes=['', '_end'])"
   ]
  },
  {
   "cell_type": "code",
   "execution_count": null,
   "id": "e50572de",
   "metadata": {},
   "outputs": [],
   "source": [
    "pass_between = pass_between[pass_between['pass_count']>5]"
   ]
  },
  {
   "cell_type": "code",
   "execution_count": null,
   "id": "6eafa645",
   "metadata": {},
   "outputs": [],
   "source": [
    "eventos_pases_3=eventos_pases_2.copy()"
   ]
  },
  {
   "cell_type": "code",
   "execution_count": null,
   "id": "d56d9b89",
   "metadata": {},
   "outputs": [],
   "source": [
    "eventos_faltas=eventos_coordenadas[eventos_coordenadas.Evento==\"Foul\"].reset_index()"
   ]
  },
  {
   "cell_type": "code",
   "execution_count": null,
   "id": "ad407524",
   "metadata": {},
   "outputs": [],
   "source": [
    "eventos_disparos.subEvento.value_counts()"
   ]
  },
  {
   "cell_type": "code",
   "execution_count": null,
   "id": "e963f49a",
   "metadata": {
    "scrolled": true
   },
   "outputs": [],
   "source": [
    "eventos_coordenadas.subEvento.value_counts()"
   ]
  },
  {
   "cell_type": "code",
   "execution_count": null,
   "id": "7e2eb671",
   "metadata": {},
   "outputs": [],
   "source": [
    "eventos_faltas[\"Tiempo_90\"]=0"
   ]
  },
  {
   "cell_type": "code",
   "execution_count": null,
   "id": "7d0a653a",
   "metadata": {},
   "outputs": [],
   "source": [
    "for i in range(0,len(eventos_faltas)):\n",
    "    if (eventos_faltas[\"Periodo\"][i]==\"1H\") & (eventos_faltas[\"Tiempo_Juego\"][i]<=45):\n",
    "        eventos_faltas[\"Tiempo_90\"][i]=eventos_faltas[\"Tiempo_Juego\"][i]\n",
    "    elif (eventos_faltas[\"Periodo\"][i]==\"2H\") & (eventos_faltas[\"Tiempo_Juego\"][i]<=45):\n",
    "        eventos_faltas[\"Tiempo_90\"][i]=eventos_faltas[\"Tiempo_Juego\"][i]+45\n",
    "    elif (eventos_faltas[\"Periodo\"][i]==\"1H\") & (eventos_faltas[\"Tiempo_Juego\"][i]>=45):\n",
    "        eventos_faltas[\"Tiempo_90\"][i]=45\n",
    "    else:\n",
    "        eventos_faltas[\"Tiempo_90\"][i]=90\n",
    "    "
   ]
  },
  {
   "cell_type": "code",
   "execution_count": null,
   "id": "c9425397",
   "metadata": {},
   "outputs": [],
   "source": [
    "faltas_condiciones = [\n",
    "    ((eventos_faltas[\"Suc1\"]==1702)|(eventos_faltas[\"Suc2\"]==1702)),\n",
    "    ((eventos_faltas[\"Suc1\"]==1703)|(eventos_faltas[\"Suc2\"]==1703)),\n",
    "     ((eventos_faltas[\"Suc1\"]==1701)|(eventos_faltas[\"Suc2\"]==1701))\n",
    "\n",
    "    \n",
    "]\n",
    "\n",
    "# create a list of the values we want to assign for each condition\n",
    "valores_faltas = [\"Amarilla\",\"Segunda Amarilla\",\"Roja\"]\n",
    "\n",
    "# create a new column and use np.select to assign values to it using our lists as arguments\n",
    "eventos_faltas['Sancion'] = np.select(faltas_condiciones, valores_faltas)"
   ]
  },
  {
   "cell_type": "code",
   "execution_count": null,
   "id": "5ed8a9a9",
   "metadata": {},
   "outputs": [],
   "source": [
    "eventos_faltas=eventos_faltas[[\"X_0\",\"Y_0\",\"Nombre_Jugador\",\"Nombre_Equipo\",\"Posicion\",\"Liga\",\"subEvento\",\"matchId\",\"Periodo\",\"Franja_Tiempo\",\"Rival\",\"Tiempo_90\",\"Sancion\",\"label\"]]"
   ]
  },
  {
   "cell_type": "code",
   "execution_count": null,
   "id": "45c4ef23",
   "metadata": {},
   "outputs": [],
   "source": [
    "eventos_duelos=eventos_coordenadas[eventos_coordenadas.Evento==\"Duel\"]"
   ]
  },
  {
   "cell_type": "code",
   "execution_count": null,
   "id": "eaa6ab21",
   "metadata": {
    "scrolled": true
   },
   "outputs": [],
   "source": [
    "eventos_duelos.Suc1.value_counts()"
   ]
  },
  {
   "cell_type": "code",
   "execution_count": null,
   "id": "bdf3a632",
   "metadata": {
    "scrolled": false
   },
   "outputs": [],
   "source": [
    "duelos_condiciones = [\n",
    "    ((eventos_duelos[\"Suc1\"]==701)|(eventos_duelos[\"Suc2\"]==701)|(eventos_duelos[\"Suc3\"]==701)|(eventos_duelos[\"Suc4\"]==701)|(eventos_duelos[\"Suc5\"]==701)|(eventos_duelos[\"Suc6\"]==701)),\n",
    "    ((eventos_duelos[\"Suc1\"]==702)|(eventos_duelos[\"Suc2\"]==702)|(eventos_duelos[\"Suc3\"]==702)|(eventos_duelos[\"Suc4\"]==702)|(eventos_duelos[\"Suc5\"]==702)|(eventos_duelos[\"Suc6\"]==702)),\n",
    "    ((eventos_duelos[\"Suc1\"]==703)|(eventos_duelos[\"Suc2\"]==703)|(eventos_duelos[\"Suc3\"]==703)|(eventos_duelos[\"Suc4\"]==703)|(eventos_duelos[\"Suc5\"]==703)|(eventos_duelos[\"Suc6\"]==703))\n",
    "\n",
    "    \n",
    "]\n",
    "\n",
    "# create a list of the values we want to assign for each condition\n",
    "valores_duelos = [\"Perdido\",\"Neutral\",\"Ganado\"]\n",
    "\n",
    "# create a new column and use np.select to assign values to it using our lists as arguments\n",
    "eventos_duelos['Fin_Duelo'] = np.select(duelos_condiciones, valores_duelos)"
   ]
  },
  {
   "cell_type": "code",
   "execution_count": null,
   "id": "fc87b65a",
   "metadata": {
    "scrolled": true
   },
   "outputs": [],
   "source": [
    "eventos_duelos[\"Tiempo_90\"]=0\n",
    "eventos_duelos.reset_index(inplace=True)"
   ]
  },
  {
   "cell_type": "code",
   "execution_count": null,
   "id": "cdf6a2d0",
   "metadata": {},
   "outputs": [],
   "source": [
    "eventos_duelos=eventos_duelos[[\"X_0\",\"Y_0\",\"Nombre_Jugador\",\"Nombre_Equipo\",\"Posicion\",\"Liga\",\"subEvento\",\"matchId\",\"Periodo\",\"Franja_Tiempo\",\"Rival\",\"Fin_Duelo\",\"Localia\",\"label\"]]"
   ]
  },
  {
   "cell_type": "code",
   "execution_count": null,
   "id": "b5fc8ea9",
   "metadata": {},
   "outputs": [],
   "source": [
    "eventos_disparos[\"Gol\"] = eventos_disparos['Suc1'].apply(lambda x: \"Gol\" if x==101 else \"No Gol\")"
   ]
  },
  {
   "cell_type": "code",
   "execution_count": null,
   "id": "ab5fb812",
   "metadata": {},
   "outputs": [],
   "source": [
    "goles_por_franja=goles_por_partido.groupby([\"Nombre_Equipo\",\"Franja_Tiempo\"]).agg({'Liga': 'first',\"X_0\":\"count\"}).reset_index()"
   ]
  },
  {
   "cell_type": "code",
   "execution_count": null,
   "id": "9afbb31b",
   "metadata": {},
   "outputs": [],
   "source": [
    "goles_por_franja=pd.DataFrame(goles_por_franja.reset_index())"
   ]
  },
  {
   "cell_type": "code",
   "execution_count": null,
   "id": "882382ca",
   "metadata": {
    "scrolled": false
   },
   "outputs": [],
   "source": [
    "goles_por_franja[\"Gol\"]=goles_por_franja[\"X_0\"]"
   ]
  },
  {
   "cell_type": "code",
   "execution_count": null,
   "id": "cce63215",
   "metadata": {},
   "outputs": [],
   "source": [
    "amarillas_por_franja=eventos_faltas[eventos_faltas.Sancion==\"Amarilla\"].groupby([\"Nombre_Equipo\",\"Franja_Tiempo\"]).agg({'Liga': 'first',\"Sancion\":\"count\"}).reset_index()"
   ]
  },
  {
   "cell_type": "code",
   "execution_count": null,
   "id": "854f1d8b",
   "metadata": {},
   "outputs": [],
   "source": [
    "amarillas_por_franja=pd.DataFrame(amarillas_por_franja.reset_index())"
   ]
  },
  {
   "cell_type": "code",
   "execution_count": null,
   "id": "a5b03360",
   "metadata": {},
   "outputs": [],
   "source": [
    "amarillas_por_franja[\"Amarilla\"]=amarillas_por_franja[\"Sancion\"]"
   ]
  },
  {
   "cell_type": "code",
   "execution_count": null,
   "id": "0da92220",
   "metadata": {},
   "outputs": [],
   "source": [
    "eventos_coordenadas[\"Gol\"] = eventos_coordenadas['Suc1'].apply(lambda x: \"Gol\" if x==101 else \"No Gol\")"
   ]
  },
  {
   "cell_type": "code",
   "execution_count": null,
   "id": "838e3ff7",
   "metadata": {
    "scrolled": true
   },
   "outputs": [],
   "source": [
    "x_pelota_parada=[]\n",
    "y_pelota_parada=[]\n",
    "x_gol_pelota_parada=[]\n",
    "y_gol_pelota_parada=[]\n",
    "goleador=[]\n",
    "for i in range(0,len(eventos_coordenadas)-4):\n",
    "    if (((eventos_coordenadas[\"subEvento\"][i]==\"Corner\")|(eventos_coordenadas[\"subEvento\"][i]==\"Free kick cross\"))&\n",
    "        (eventos_coordenadas[\"X_0\"][i]>50) & \n",
    "        ((eventos_coordenadas[\"Evento\"][i+1]==\"Shot\")&(eventos_coordenadas[\"Gol\"][i+1]==\"Gol\"))):\n",
    "            x_pelota_parada.append(eventos_coordenadas[\"X_0\"][i])\n",
    "            y_pelota_parada.append(eventos_coordenadas[\"Y_0\"][i])\n",
    "            x_gol_pelota_parada.append(eventos_coordenadas[\"X_0\"][i+1])\n",
    "            y_gol_pelota_parada.append(eventos_coordenadas[\"Y_0\"][i+1])\n",
    "            goleador.append(eventos_coordenadas[\"Nombre_Jugador\"][i+1])\n",
    "    elif (((eventos_coordenadas[\"subEvento\"][i]==\"Corner\")|(eventos_coordenadas[\"subEvento\"][i]==\"Free kick cross\"))&\n",
    "        (eventos_coordenadas[\"X_0\"][i]>50) & \n",
    "        ((eventos_coordenadas[\"Evento\"][i+2]==\"Shot\")&(eventos_coordenadas[\"Gol\"][i+2]==\"Gol\"))):\n",
    "            x_pelota_parada.append(eventos_coordenadas[\"X_0\"][i])\n",
    "            y_pelota_parada.append(eventos_coordenadas[\"Y_0\"][i])\n",
    "            x_gol_pelota_parada.append(eventos_coordenadas[\"X_0\"][i+2])\n",
    "            y_gol_pelota_parada.append(eventos_coordenadas[\"Y_0\"][i+2])\n",
    "            goleador.append(eventos_coordenadas[\"Nombre_Jugador\"][i+2])\n",
    "    elif (((eventos_coordenadas[\"subEvento\"][i]==\"Corner\")|(eventos_coordenadas[\"subEvento\"][i]==\"Free kick cross\"))&\n",
    "        (eventos_coordenadas[\"X_0\"][i]>50) & \n",
    "        ((eventos_coordenadas[\"Evento\"][i+3]==\"Shot\")&(eventos_coordenadas[\"Gol\"][i+3]==\"Gol\"))):\n",
    "            x_pelota_parada.append(eventos_coordenadas[\"X_0\"][i])\n",
    "            y_pelota_parada.append(eventos_coordenadas[\"Y_0\"][i])\n",
    "            x_gol_pelota_parada.append(eventos_coordenadas[\"X_0\"][i+3])\n",
    "            y_gol_pelota_parada.append(eventos_coordenadas[\"Y_0\"][i+3])\n",
    "            goleador.append(eventos_coordenadas[\"Nombre_Jugador\"][i+3])\n",
    "    elif (((eventos_coordenadas[\"subEvento\"][i]==\"Corner\")|(eventos_coordenadas[\"subEvento\"][i]==\"Free kick cross\"))&\n",
    "        (eventos_coordenadas[\"X_0\"][i]>50) & \n",
    "        ((eventos_coordenadas[\"Evento\"][i+4]==\"Shot\")&(eventos_coordenadas[\"Gol\"][i+4]==\"Gol\"))):\n",
    "            x_pelota_parada.append(eventos_coordenadas[\"X_0\"][i])\n",
    "            y_pelota_parada.append(eventos_coordenadas[\"Y_0\"][i])\n",
    "            x_gol_pelota_parada.append(eventos_coordenadas[\"X_0\"][i+4])\n",
    "            y_gol_pelota_parada.append(eventos_coordenadas[\"Y_0\"][i+4])\n",
    "            goleador.append(eventos_coordenadas[\"Nombre_Jugador\"][i+4])\n",
    "    else:\n",
    "        x_pelota_parada.append(0)\n",
    "        y_pelota_parada.append(0)\n",
    "        x_gol_pelota_parada.append(0)\n",
    "        y_gol_pelota_parada.append(0)\n",
    "        goleador.append(\"\")"
   ]
  },
  {
   "cell_type": "code",
   "execution_count": null,
   "id": "9df9d1e1",
   "metadata": {},
   "outputs": [],
   "source": [
    "pelota_parada=pd.DataFrame()\n",
    "pelota_parada[\"X_0\"]=x_pelota_parada\n",
    "pelota_parada[\"Y_0\"]=y_pelota_parada\n",
    "pelota_parada[\"X_F\"]=x_gol_pelota_parada\n",
    "pelota_parada[\"Y_F\"]=y_gol_pelota_parada\n",
    "pelota_parada[\"Nombre_Jugador\"]=eventos_coordenadas[\"Nombre_Jugador\"]\n",
    "pelota_parada[\"Nombre_Equipo\"]=eventos_coordenadas[\"Nombre_Equipo\"]\n",
    "pelota_parada[\"Evento\"]=eventos_coordenadas[\"subEvento\"]\n",
    "pelota_parada[\"Rival\"]=eventos_coordenadas[\"Rival\"]\n",
    "pelota_parada[\"Franja_Tiempo\"]=eventos_coordenadas[\"Franja_Tiempo\"]\n",
    "pelota_parada[\"Liga\"]=eventos_coordenadas[\"Liga\"]\n",
    "pelota_parada[\"matchId\"]=eventos_coordenadas[\"matchId\"]\n",
    "pelota_parada[\"Goleador\"]=goleador\n",
    "\n",
    "pelota_parada=pelota_parada[(pelota_parada.X_0!=0) & (pelota_parada.X_F!=0)]"
   ]
  },
  {
   "cell_type": "code",
   "execution_count": null,
   "id": "5eac8d98",
   "metadata": {},
   "outputs": [],
   "source": [
    "pelota_parada_2=pd.concat([pelota_parada]*2,ignore_index=True)"
   ]
  },
  {
   "cell_type": "code",
   "execution_count": null,
   "id": "54f661d5",
   "metadata": {},
   "outputs": [],
   "source": [
    "pelota_parada_2[\"Extremo\"]=0\n",
    "pelota_parada_2[\"Extremo\"]=pelota_parada_2[\"Extremo\"].iloc[0:554].apply(lambda x:\"Inicio\")\n",
    "pelota_parada_2[\"Extremo\"].fillna(\"Final\",inplace=True)\n",
    "pelota_parada_2 = pelota_parada_2.rename_axis('Indice').reset_index()\n",
    "pelota_parada_2[\"Indice\"].iloc[0:554]=pelota_parada_2[\"Indice\"].iloc[554:]"
   ]
  }
 ],
 "metadata": {
  "kernelspec": {
   "display_name": "Python 3 (ipykernel)",
   "language": "python",
   "name": "python3"
  },
  "language_info": {
   "codemirror_mode": {
    "name": "ipython",
    "version": 3
   },
   "file_extension": ".py",
   "mimetype": "text/x-python",
   "name": "python",
   "nbconvert_exporter": "python",
   "pygments_lexer": "ipython3",
   "version": "3.9.13"
  }
 },
 "nbformat": 4,
 "nbformat_minor": 5
}
